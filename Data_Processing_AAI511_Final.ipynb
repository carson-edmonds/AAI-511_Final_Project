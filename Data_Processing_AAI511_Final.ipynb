{
  "nbformat": 4,
  "nbformat_minor": 0,
  "metadata": {
    "colab": {
      "provenance": [],
      "authorship_tag": "ABX9TyOdC2PtnQB0HL6tEfVYZsj7",
      "include_colab_link": true
    },
    "kernelspec": {
      "name": "python3",
      "display_name": "Python 3"
    },
    "language_info": {
      "name": "python"
    }
  },
  "cells": [
    {
      "cell_type": "markdown",
      "metadata": {
        "id": "view-in-github",
        "colab_type": "text"
      },
      "source": [
        "<a href=\"https://colab.research.google.com/github/carson-edmonds/AAI-511_Final_Project/blob/main/Data_Processing_AAI511_Final.ipynb\" target=\"_parent\"><img src=\"https://colab.research.google.com/assets/colab-badge.svg\" alt=\"Open In Colab\"/></a>"
      ]
    },
    {
      "cell_type": "code",
      "source": [
        "import pandas as pd\n",
        "import numpy as np\n",
        "from sklearn.preprocessing import OrdinalEncoder\n",
        "from sklearn.preprocessing import LabelEncoder"
      ],
      "metadata": {
        "id": "bdozbWdAu4kb"
      },
      "execution_count": 17,
      "outputs": []
    },
    {
      "cell_type": "code",
      "execution_count": 8,
      "metadata": {
        "colab": {
          "base_uri": "https://localhost:8080/"
        },
        "id": "wSNZ7Z48ugU8",
        "outputId": "e49c41be-e69e-4861-c384-df561b6838b7"
      },
      "outputs": [
        {
          "output_type": "stream",
          "name": "stdout",
          "text": [
            "Drive already mounted at /content/drive; to attempt to forcibly remount, call drive.mount(\"/content/drive\", force_remount=True).\n"
          ]
        }
      ],
      "source": [
        "from google.colab import drive\n",
        "drive.mount('/content/drive')"
      ]
    },
    {
      "cell_type": "code",
      "source": [
        "#@title Loading data and viewing it\n",
        "def csv_read(path):\n",
        "  df = pd.read_csv(path)\n",
        "  df_shape = df.shape\n",
        "  print(\"Shape of the dataframe (row, col):\", df_shape,\"\\r\\n\")\n",
        "  return df\n",
        "\n",
        "#encode object data with labelencoder\n",
        "def df_encode(df):\n",
        "  obj_cols = list(df.select_dtypes(include='object'))\n",
        "  le = LabelEncoder()\n",
        "  df[obj_cols] = df[obj_cols].apply(LabelEncoder().fit_transform)\n",
        "  return df\n",
        "\n",
        "#reading all data subsets and encoding for model use\n",
        "def csv_to_df(train_path, val_path, test_path):\n",
        "  print(\"Train set:\")\n",
        "  train_df = csv_read(train_path)\n",
        "  print(\"Val set:\")\n",
        "  val_df = csv_read(val_path)\n",
        "  print(\"Test set:\")\n",
        "  test_df = csv_read(test_path)\n",
        "\n",
        "  train_df = df_encode(train_df)\n",
        "  val_df = df_encode(val_df)\n",
        "  test_df = df_encode(test_df)\n",
        "  return train_df, val_df, test_df\n"
      ],
      "metadata": {
        "id": "WLamBeZxvIwS"
      },
      "execution_count": 28,
      "outputs": []
    },
    {
      "cell_type": "code",
      "source": [
        "#edit path to match correct file path\n",
        "train_path = '/content/drive/MyDrive/AAI 511/Final Project/midi_features_traindataset_raw.csv'\n",
        "val_path = '/content/drive/MyDrive/AAI 511/Final Project/midi_features_valdataset_raw.csv'\n",
        "test_path = '/content/drive/MyDrive/AAI 511/Final Project/midi_features_valdataset_raw.csv'"
      ],
      "metadata": {
        "id": "_Uj2e_mXwB6k"
      },
      "execution_count": 21,
      "outputs": []
    },
    {
      "cell_type": "code",
      "source": [
        "#df = df_encode(df)\n",
        "#print(df.dtypes)"
      ],
      "metadata": {
        "id": "sym5GSdY6B7W"
      },
      "execution_count": null,
      "outputs": []
    },
    {
      "cell_type": "code",
      "source": [
        "train_df, val_df, test_df = csv_to_df(train_path, val_path, test_path)"
      ],
      "metadata": {
        "colab": {
          "base_uri": "https://localhost:8080/"
        },
        "id": "udHzwUel8bB6",
        "outputId": "cbe14d4a-310b-48ee-99f6-d64df7e31a3a"
      },
      "execution_count": 29,
      "outputs": [
        {
          "output_type": "stream",
          "name": "stdout",
          "text": [
            "Train set:\n",
            "Shape of the dataframe (row, col): (372, 18) \n",
            "\n",
            "Val set:\n",
            "Shape of the dataframe (row, col): (35, 18) \n",
            "\n",
            "Test set:\n",
            "Shape of the dataframe (row, col): (35, 18) \n",
            "\n"
          ]
        }
      ]
    },
    {
      "cell_type": "code",
      "source": [
        "print('Train set:\\n', train_df.dtypes)\n",
        "print('val set:\\n', val_df.dtypes)\n",
        "print('test set:\\n', test_df.dtypes)"
      ],
      "metadata": {
        "id": "XZA9MAdv6UFK"
      },
      "execution_count": null,
      "outputs": []
    }
  ]
}