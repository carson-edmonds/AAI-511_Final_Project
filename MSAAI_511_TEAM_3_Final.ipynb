{
  "nbformat": 4,
  "nbformat_minor": 0,
  "metadata": {
    "colab": {
      "provenance": []
    },
    "kernelspec": {
      "name": "python3",
      "display_name": "Python 3"
    },
    "language_info": {
      "name": "python"
    }
  },
  "cells": [
    {
      "cell_type": "markdown",
      "source": [
        "# MSAAI 511 Neural Networks and Deep Learning\n",
        "# University of San Diego\n",
        "# Summer 2023 Section 02 Final Project Report\n",
        "# Professor: Dr. Mirsardar Esnaeilli\n",
        "## Final Project Team 3\n",
        "## Topic: Music Genre and Composer Classification Using Deep Learning\n",
        "\n",
        "## Project Team GitHub: https://github.com/carson-edmonds/AAI-511_Final_Project\n",
        "## Auguest 14, 2023"
      ],
      "metadata": {
        "id": "Ob5V2BPQkohD"
      }
    },
    {
      "cell_type": "markdown",
      "source": [
        "# 1. Data Pre-processing:"
      ],
      "metadata": {
        "id": "9ldVHYqanUnZ"
      }
    },
    {
      "cell_type": "code",
      "execution_count": null,
      "metadata": {
        "id": "slVYkSD0kaI_"
      },
      "outputs": [],
      "source": []
    },
    {
      "cell_type": "markdown",
      "source": [
        "# 2. Feature Extraction:"
      ],
      "metadata": {
        "id": "jLh9OiOhndfN"
      }
    },
    {
      "cell_type": "markdown",
      "source": [
        "# 3. Model Building:"
      ],
      "metadata": {
        "id": "8vT8G97TnhUX"
      }
    },
    {
      "cell_type": "markdown",
      "source": [
        "# 4. Model Training:"
      ],
      "metadata": {
        "id": "qSjBlWiLnmBj"
      }
    },
    {
      "cell_type": "markdown",
      "source": [
        "# 5. Model Evaluation:"
      ],
      "metadata": {
        "id": "T9T63CYcnqIQ"
      }
    },
    {
      "cell_type": "markdown",
      "source": [
        "# 6. Model Optimization:"
      ],
      "metadata": {
        "id": "AaUYVuJqnwO1"
      }
    },
    {
      "cell_type": "markdown",
      "source": [
        "# 7. Conclusion and Discussion"
      ],
      "metadata": {
        "id": "EjJCEN8_n1Ld"
      }
    }
  ]
}