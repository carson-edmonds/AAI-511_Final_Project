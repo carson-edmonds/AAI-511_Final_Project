{
  "nbformat": 4,
  "nbformat_minor": 0,
  "metadata": {
    "colab": {
      "provenance": [],
      "machine_shape": "hm",
      "gpuType": "V100"
    },
    "kernelspec": {
      "name": "python3",
      "display_name": "Python 3"
    },
    "language_info": {
      "name": "python"
    },
    "accelerator": "GPU"
  },
  "cells": [
    {
      "cell_type": "code",
      "execution_count": 1,
      "metadata": {
        "id": "713Xh4hsvtx9",
        "colab": {
          "base_uri": "https://localhost:8080/"
        },
        "outputId": "03d8d03f-c32b-4430-cf50-ba5547c8e806"
      },
      "outputs": [
        {
          "output_type": "stream",
          "name": "stdout",
          "text": [
            "\u001b[?25l     \u001b[90m━━━━━━━━━━━━━━━━━━━━━━━━━━━━━━━━━━━━━━━━\u001b[0m \u001b[32m0.0/50.3 kB\u001b[0m \u001b[31m?\u001b[0m eta \u001b[36m-:--:--\u001b[0m\r\u001b[2K     \u001b[91m━━━━━━━━━━━━━━━━━━━━━━━━━━━━━━━━\u001b[0m\u001b[91m╸\u001b[0m\u001b[90m━━━━━━━\u001b[0m \u001b[32m41.0/50.3 kB\u001b[0m \u001b[31m1.4 MB/s\u001b[0m eta \u001b[36m0:00:01\u001b[0m\r\u001b[2K     \u001b[90m━━━━━━━━━━━━━━━━━━━━━━━━━━━━━━━━━━━━━━━━\u001b[0m \u001b[32m50.3/50.3 kB\u001b[0m \u001b[31m1.1 MB/s\u001b[0m eta \u001b[36m0:00:00\u001b[0m\n",
            "\u001b[?25h"
          ]
        }
      ],
      "source": [
        "!pip install mido --quiet\n",
        "import mido"
      ]
    },
    {
      "cell_type": "code",
      "source": [
        "from google.colab import drive\n",
        "drive.mount('/content/drive')"
      ],
      "metadata": {
        "colab": {
          "base_uri": "https://localhost:8080/"
        },
        "id": "wDg8wirg0H7X",
        "outputId": "8848de2c-8622-4a34-947b-5b335ff74b43"
      },
      "execution_count": 1,
      "outputs": [
        {
          "output_type": "stream",
          "name": "stdout",
          "text": [
            "Mounted at /content/drive\n"
          ]
        }
      ]
    },
    {
      "cell_type": "code",
      "source": [
        "import os\n",
        "import glob\n",
        "\n",
        "import pandas as pd\n",
        "import numpy as np\n",
        "import matplotlib.pyplot as plt\n",
        "import numpy as np\n",
        "from sklearn.preprocessing import LabelEncoder\n",
        "import os\n",
        "import mido\n",
        "import string\n",
        "from tqdm import tqdm\n",
        "\n",
        "np.random.seed(42)  # makes the randomness deterministic\n",
        "\n",
        "%matplotlib inline\n",
        "# todo: try %matplotlib widget\n",
        "plt.rcParams['figure.figsize'] = (15, 5)\n",
        "plt.rcParams['axes.grid'] = True"
      ],
      "metadata": {
        "id": "_iiSFU280EWN"
      },
      "execution_count": 2,
      "outputs": []
    },
    {
      "cell_type": "code",
      "source": [
        "import string\n",
        "def msg2dict(msg):\n",
        "    result = dict()\n",
        "    if 'note_on' in msg:\n",
        "        on_ = True\n",
        "    elif 'note_off' in msg:\n",
        "        on_ = False\n",
        "    else:\n",
        "        on_ = None\n",
        "    result['time'] = int(msg[msg.rfind('time'):].split(' ')[0].split('=')[1].translate(\n",
        "        str.maketrans({a: None for a in string.punctuation})))\n",
        "\n",
        "    if on_ is not None:\n",
        "        for k in ['note', 'velocity']:\n",
        "            result[k] = int(msg[msg.rfind(k):].split(' ')[0].split('=')[1].translate(\n",
        "                str.maketrans({a: None for a in string.punctuation})))\n",
        "    return [result, on_]\n",
        "\n",
        "def switch_note(last_state, note, velocity, on_=True):\n",
        "    # piano has 88 notes, corresponding to note id 21 to 108, any note out of this range will be ignored\n",
        "    result = [0] * 88 if last_state is None else last_state.copy()\n",
        "    if 21 <= note <= 108:\n",
        "        result[note-21] = velocity if on_ else 0\n",
        "    return result\n",
        "\n",
        "def get_new_state(new_msg, last_state):\n",
        "    new_msg, on_ = msg2dict(str(new_msg))\n",
        "    new_state = switch_note(last_state, note=new_msg['note'], velocity=new_msg['velocity'], on_=on_) if on_ is not None else last_state\n",
        "    return [new_state, new_msg['time']]\n",
        "\n",
        "def track2seq(track):\n",
        "    # piano has 88 notes, corresponding to note id 21 to 108, any note out of the id range will be ignored\n",
        "    result = []\n",
        "    last_state, last_time = get_new_state(str(track[0]), [0]*88)\n",
        "    for i in range(1, len(track)):\n",
        "        new_state, new_time = get_new_state(track[i], last_state)\n",
        "        if new_time > 0:\n",
        "            result += [last_state]*new_time\n",
        "        last_state, last_time = new_state, new_time\n",
        "    return result\n",
        "\n",
        "def mid2arry(mid, min_msg_pct=0.1):\n",
        "    tracks_len = [len(tr) for tr in mid.tracks]\n",
        "    min_n_msg = max(tracks_len) * min_msg_pct\n",
        "    # convert each track to nested list\n",
        "    all_arys = []\n",
        "    for i in range(len(mid.tracks)):\n",
        "        if len(mid.tracks[i]) > min_n_msg:\n",
        "            ary_i = track2seq(mid.tracks[i])\n",
        "            all_arys.append(ary_i)\n",
        "    # make all nested list the same length\n",
        "    max_len = max([len(ary) for ary in all_arys])\n",
        "    for i in range(len(all_arys)):\n",
        "        if len(all_arys[i]) < max_len:\n",
        "            all_arys[i] += [[0] * 88] * (max_len - len(all_arys[i]))\n",
        "    all_arys = np.array(all_arys)\n",
        "    all_arys = all_arys.max(axis=0)\n",
        "    # trim: remove consecutive 0s in the beginning and at the end\n",
        "    sums = all_arys.sum(axis=1)\n",
        "    ends = np.where(sums > 0)[0]\n",
        "    return all_arys[min(ends): max(ends)]"
      ],
      "metadata": {
        "id": "FJspaBPA0bFR"
      },
      "execution_count": null,
      "outputs": []
    },
    {
      "cell_type": "code",
      "source": [
        "# The wrapper function to load a MIDI file and extract features\n",
        "def extract_features(file_path):\n",
        "    mid = mido.MidiFile(file_path, clip=True)\n",
        "\n",
        "    return mid2arry(mid)"
      ],
      "metadata": {
        "id": "LQwFq0Zs0cyT"
      },
      "execution_count": null,
      "outputs": []
    },
    {
      "cell_type": "code",
      "source": [
        "# Specify your directory containing MIDI folders\n",
        "main_dir = '/content/drive/MyDrive/Colab Notebooks/Data/Composer_Dataset/NN_midi_files_extended/train/'\n",
        "\n",
        "# Prepare lists to store filenames and lengths\n",
        "filenamelist = []\n",
        "lengths = []\n",
        "\n",
        "# Walk through all subdirectories\n",
        "for dirpath, dirnames, filenames in os.walk(main_dir):\n",
        "    for filename in tqdm(filenames):\n",
        "      if filename.endswith('.mid'):\n",
        "            full_file_path = os.path.join(dirpath, filename)  # get full file path\n",
        "            mid = mido.MidiFile(full_file_path, clip=True)\n",
        "            # Compute the total number of messages in all tracks\n",
        "            total_msgs = sum(len(track) for track in mid.tracks)\n",
        "            filenamelist.append(filename)\n",
        "            lengths.append(total_msgs)\n",
        "\n",
        "# Create a DataFrame\n",
        "df = pd.DataFrame({\n",
        "    'filename': filenamelist,\n",
        "    'length': lengths\n",
        "})"
      ],
      "metadata": {
        "colab": {
          "base_uri": "https://localhost:8080/"
        },
        "id": "HYPvldUx0gZo",
        "outputId": "7653c0a1-3f50-4a38-aca7-49a0336d01d2"
      },
      "execution_count": null,
      "outputs": [
        {
          "output_type": "stream",
          "name": "stderr",
          "text": [
            "100%|██████████| 1/1 [00:00<00:00, 321.67it/s]\n",
            "100%|██████████| 42/42 [00:18<00:00,  2.28it/s]\n",
            "100%|██████████| 43/43 [00:14<00:00,  2.98it/s]\n",
            "100%|██████████| 39/39 [00:21<00:00,  1.82it/s]\n",
            "100%|██████████| 42/42 [00:26<00:00,  1.60it/s]\n",
            "100%|██████████| 42/42 [00:17<00:00,  2.45it/s]\n",
            "100%|██████████| 43/43 [00:12<00:00,  3.32it/s]\n",
            "100%|██████████| 42/42 [00:25<00:00,  1.62it/s]\n",
            "100%|██████████| 43/43 [00:24<00:00,  1.77it/s]\n",
            "100%|██████████| 42/42 [00:16<00:00,  2.53it/s]\n"
          ]
        }
      ]
    },
    {
      "cell_type": "code",
      "source": [
        "df"
      ],
      "metadata": {
        "colab": {
          "base_uri": "https://localhost:8080/",
          "height": 424
        },
        "id": "yaffTHsZ1dy8",
        "outputId": "8b345918-427f-47c6-beda-7b774ab741e2"
      },
      "execution_count": null,
      "outputs": [
        {
          "output_type": "execute_result",
          "data": {
            "text/plain": [
              "          filename  length\n",
              "0    bartok414.mid     755\n",
              "1    bartok422.mid    2820\n",
              "2    bartok425.mid     655\n",
              "3    bartok403.mid     363\n",
              "4    bartok407.mid    1200\n",
              "..             ...     ...\n",
              "364  chopin052.mid    5481\n",
              "365  chopin054.mid    5067\n",
              "366  chopin067.mid    2902\n",
              "367  chopin064.mid    2465\n",
              "368  chopin076.mid    3940\n",
              "\n",
              "[369 rows x 2 columns]"
            ],
            "text/html": [
              "\n",
              "\n",
              "  <div id=\"df-37f686df-0884-451a-9489-c395e9a9bf85\">\n",
              "    <div class=\"colab-df-container\">\n",
              "      <div>\n",
              "<style scoped>\n",
              "    .dataframe tbody tr th:only-of-type {\n",
              "        vertical-align: middle;\n",
              "    }\n",
              "\n",
              "    .dataframe tbody tr th {\n",
              "        vertical-align: top;\n",
              "    }\n",
              "\n",
              "    .dataframe thead th {\n",
              "        text-align: right;\n",
              "    }\n",
              "</style>\n",
              "<table border=\"1\" class=\"dataframe\">\n",
              "  <thead>\n",
              "    <tr style=\"text-align: right;\">\n",
              "      <th></th>\n",
              "      <th>filename</th>\n",
              "      <th>length</th>\n",
              "    </tr>\n",
              "  </thead>\n",
              "  <tbody>\n",
              "    <tr>\n",
              "      <th>0</th>\n",
              "      <td>bartok414.mid</td>\n",
              "      <td>755</td>\n",
              "    </tr>\n",
              "    <tr>\n",
              "      <th>1</th>\n",
              "      <td>bartok422.mid</td>\n",
              "      <td>2820</td>\n",
              "    </tr>\n",
              "    <tr>\n",
              "      <th>2</th>\n",
              "      <td>bartok425.mid</td>\n",
              "      <td>655</td>\n",
              "    </tr>\n",
              "    <tr>\n",
              "      <th>3</th>\n",
              "      <td>bartok403.mid</td>\n",
              "      <td>363</td>\n",
              "    </tr>\n",
              "    <tr>\n",
              "      <th>4</th>\n",
              "      <td>bartok407.mid</td>\n",
              "      <td>1200</td>\n",
              "    </tr>\n",
              "    <tr>\n",
              "      <th>...</th>\n",
              "      <td>...</td>\n",
              "      <td>...</td>\n",
              "    </tr>\n",
              "    <tr>\n",
              "      <th>364</th>\n",
              "      <td>chopin052.mid</td>\n",
              "      <td>5481</td>\n",
              "    </tr>\n",
              "    <tr>\n",
              "      <th>365</th>\n",
              "      <td>chopin054.mid</td>\n",
              "      <td>5067</td>\n",
              "    </tr>\n",
              "    <tr>\n",
              "      <th>366</th>\n",
              "      <td>chopin067.mid</td>\n",
              "      <td>2902</td>\n",
              "    </tr>\n",
              "    <tr>\n",
              "      <th>367</th>\n",
              "      <td>chopin064.mid</td>\n",
              "      <td>2465</td>\n",
              "    </tr>\n",
              "    <tr>\n",
              "      <th>368</th>\n",
              "      <td>chopin076.mid</td>\n",
              "      <td>3940</td>\n",
              "    </tr>\n",
              "  </tbody>\n",
              "</table>\n",
              "<p>369 rows × 2 columns</p>\n",
              "</div>\n",
              "      <button class=\"colab-df-convert\" onclick=\"convertToInteractive('df-37f686df-0884-451a-9489-c395e9a9bf85')\"\n",
              "              title=\"Convert this dataframe to an interactive table.\"\n",
              "              style=\"display:none;\">\n",
              "\n",
              "  <svg xmlns=\"http://www.w3.org/2000/svg\" height=\"24px\"viewBox=\"0 0 24 24\"\n",
              "       width=\"24px\">\n",
              "    <path d=\"M0 0h24v24H0V0z\" fill=\"none\"/>\n",
              "    <path d=\"M18.56 5.44l.94 2.06.94-2.06 2.06-.94-2.06-.94-.94-2.06-.94 2.06-2.06.94zm-11 1L8.5 8.5l.94-2.06 2.06-.94-2.06-.94L8.5 2.5l-.94 2.06-2.06.94zm10 10l.94 2.06.94-2.06 2.06-.94-2.06-.94-.94-2.06-.94 2.06-2.06.94z\"/><path d=\"M17.41 7.96l-1.37-1.37c-.4-.4-.92-.59-1.43-.59-.52 0-1.04.2-1.43.59L10.3 9.45l-7.72 7.72c-.78.78-.78 2.05 0 2.83L4 21.41c.39.39.9.59 1.41.59.51 0 1.02-.2 1.41-.59l7.78-7.78 2.81-2.81c.8-.78.8-2.07 0-2.86zM5.41 20L4 18.59l7.72-7.72 1.47 1.35L5.41 20z\"/>\n",
              "  </svg>\n",
              "      </button>\n",
              "\n",
              "\n",
              "\n",
              "    <div id=\"df-eeef8737-8d92-46f2-b90b-828e99f39c2f\">\n",
              "      <button class=\"colab-df-quickchart\" onclick=\"quickchart('df-eeef8737-8d92-46f2-b90b-828e99f39c2f')\"\n",
              "              title=\"Suggest charts.\"\n",
              "              style=\"display:none;\">\n",
              "\n",
              "<svg xmlns=\"http://www.w3.org/2000/svg\" height=\"24px\"viewBox=\"0 0 24 24\"\n",
              "     width=\"24px\">\n",
              "    <g>\n",
              "        <path d=\"M19 3H5c-1.1 0-2 .9-2 2v14c0 1.1.9 2 2 2h14c1.1 0 2-.9 2-2V5c0-1.1-.9-2-2-2zM9 17H7v-7h2v7zm4 0h-2V7h2v10zm4 0h-2v-4h2v4z\"/>\n",
              "    </g>\n",
              "</svg>\n",
              "      </button>\n",
              "    </div>\n",
              "\n",
              "<style>\n",
              "  .colab-df-quickchart {\n",
              "    background-color: #E8F0FE;\n",
              "    border: none;\n",
              "    border-radius: 50%;\n",
              "    cursor: pointer;\n",
              "    display: none;\n",
              "    fill: #1967D2;\n",
              "    height: 32px;\n",
              "    padding: 0 0 0 0;\n",
              "    width: 32px;\n",
              "  }\n",
              "\n",
              "  .colab-df-quickchart:hover {\n",
              "    background-color: #E2EBFA;\n",
              "    box-shadow: 0px 1px 2px rgba(60, 64, 67, 0.3), 0px 1px 3px 1px rgba(60, 64, 67, 0.15);\n",
              "    fill: #174EA6;\n",
              "  }\n",
              "\n",
              "  [theme=dark] .colab-df-quickchart {\n",
              "    background-color: #3B4455;\n",
              "    fill: #D2E3FC;\n",
              "  }\n",
              "\n",
              "  [theme=dark] .colab-df-quickchart:hover {\n",
              "    background-color: #434B5C;\n",
              "    box-shadow: 0px 1px 3px 1px rgba(0, 0, 0, 0.15);\n",
              "    filter: drop-shadow(0px 1px 2px rgba(0, 0, 0, 0.3));\n",
              "    fill: #FFFFFF;\n",
              "  }\n",
              "</style>\n",
              "\n",
              "    <script>\n",
              "      async function quickchart(key) {\n",
              "        const containerElement = document.querySelector('#' + key);\n",
              "        const charts = await google.colab.kernel.invokeFunction(\n",
              "            'suggestCharts', [key], {});\n",
              "      }\n",
              "    </script>\n",
              "\n",
              "      <script>\n",
              "\n",
              "function displayQuickchartButton(domScope) {\n",
              "  let quickchartButtonEl =\n",
              "    domScope.querySelector('#df-eeef8737-8d92-46f2-b90b-828e99f39c2f button.colab-df-quickchart');\n",
              "  quickchartButtonEl.style.display =\n",
              "    google.colab.kernel.accessAllowed ? 'block' : 'none';\n",
              "}\n",
              "\n",
              "        displayQuickchartButton(document);\n",
              "      </script>\n",
              "      <style>\n",
              "    .colab-df-container {\n",
              "      display:flex;\n",
              "      flex-wrap:wrap;\n",
              "      gap: 12px;\n",
              "    }\n",
              "\n",
              "    .colab-df-convert {\n",
              "      background-color: #E8F0FE;\n",
              "      border: none;\n",
              "      border-radius: 50%;\n",
              "      cursor: pointer;\n",
              "      display: none;\n",
              "      fill: #1967D2;\n",
              "      height: 32px;\n",
              "      padding: 0 0 0 0;\n",
              "      width: 32px;\n",
              "    }\n",
              "\n",
              "    .colab-df-convert:hover {\n",
              "      background-color: #E2EBFA;\n",
              "      box-shadow: 0px 1px 2px rgba(60, 64, 67, 0.3), 0px 1px 3px 1px rgba(60, 64, 67, 0.15);\n",
              "      fill: #174EA6;\n",
              "    }\n",
              "\n",
              "    [theme=dark] .colab-df-convert {\n",
              "      background-color: #3B4455;\n",
              "      fill: #D2E3FC;\n",
              "    }\n",
              "\n",
              "    [theme=dark] .colab-df-convert:hover {\n",
              "      background-color: #434B5C;\n",
              "      box-shadow: 0px 1px 3px 1px rgba(0, 0, 0, 0.15);\n",
              "      filter: drop-shadow(0px 1px 2px rgba(0, 0, 0, 0.3));\n",
              "      fill: #FFFFFF;\n",
              "    }\n",
              "  </style>\n",
              "\n",
              "      <script>\n",
              "        const buttonEl =\n",
              "          document.querySelector('#df-37f686df-0884-451a-9489-c395e9a9bf85 button.colab-df-convert');\n",
              "        buttonEl.style.display =\n",
              "          google.colab.kernel.accessAllowed ? 'block' : 'none';\n",
              "\n",
              "        async function convertToInteractive(key) {\n",
              "          const element = document.querySelector('#df-37f686df-0884-451a-9489-c395e9a9bf85');\n",
              "          const dataTable =\n",
              "            await google.colab.kernel.invokeFunction('convertToInteractive',\n",
              "                                                     [key], {});\n",
              "          if (!dataTable) return;\n",
              "\n",
              "          const docLinkHtml = 'Like what you see? Visit the ' +\n",
              "            '<a target=\"_blank\" href=https://colab.research.google.com/notebooks/data_table.ipynb>data table notebook</a>'\n",
              "            + ' to learn more about interactive tables.';\n",
              "          element.innerHTML = '';\n",
              "          dataTable['output_type'] = 'display_data';\n",
              "          await google.colab.output.renderOutput(dataTable, element);\n",
              "          const docLink = document.createElement('div');\n",
              "          docLink.innerHTML = docLinkHtml;\n",
              "          element.appendChild(docLink);\n",
              "        }\n",
              "      </script>\n",
              "    </div>\n",
              "  </div>\n"
            ]
          },
          "metadata": {},
          "execution_count": 7
        }
      ]
    },
    {
      "cell_type": "code",
      "source": [
        "df.describe()"
      ],
      "metadata": {
        "colab": {
          "base_uri": "https://localhost:8080/",
          "height": 300
        },
        "id": "jPQWHBfn1hYX",
        "outputId": "ad5a39ce-90ac-4aa2-c6f9-5d50b066e4e0"
      },
      "execution_count": null,
      "outputs": [
        {
          "output_type": "execute_result",
          "data": {
            "text/plain": [
              "             length\n",
              "count    369.000000\n",
              "mean    9062.140921\n",
              "std    11852.857223\n",
              "min      228.000000\n",
              "25%     2174.000000\n",
              "50%     4802.000000\n",
              "75%    10627.000000\n",
              "max    92747.000000"
            ],
            "text/html": [
              "\n",
              "\n",
              "  <div id=\"df-c6d31935-76a6-45b1-8815-b18036693b80\">\n",
              "    <div class=\"colab-df-container\">\n",
              "      <div>\n",
              "<style scoped>\n",
              "    .dataframe tbody tr th:only-of-type {\n",
              "        vertical-align: middle;\n",
              "    }\n",
              "\n",
              "    .dataframe tbody tr th {\n",
              "        vertical-align: top;\n",
              "    }\n",
              "\n",
              "    .dataframe thead th {\n",
              "        text-align: right;\n",
              "    }\n",
              "</style>\n",
              "<table border=\"1\" class=\"dataframe\">\n",
              "  <thead>\n",
              "    <tr style=\"text-align: right;\">\n",
              "      <th></th>\n",
              "      <th>length</th>\n",
              "    </tr>\n",
              "  </thead>\n",
              "  <tbody>\n",
              "    <tr>\n",
              "      <th>count</th>\n",
              "      <td>369.000000</td>\n",
              "    </tr>\n",
              "    <tr>\n",
              "      <th>mean</th>\n",
              "      <td>9062.140921</td>\n",
              "    </tr>\n",
              "    <tr>\n",
              "      <th>std</th>\n",
              "      <td>11852.857223</td>\n",
              "    </tr>\n",
              "    <tr>\n",
              "      <th>min</th>\n",
              "      <td>228.000000</td>\n",
              "    </tr>\n",
              "    <tr>\n",
              "      <th>25%</th>\n",
              "      <td>2174.000000</td>\n",
              "    </tr>\n",
              "    <tr>\n",
              "      <th>50%</th>\n",
              "      <td>4802.000000</td>\n",
              "    </tr>\n",
              "    <tr>\n",
              "      <th>75%</th>\n",
              "      <td>10627.000000</td>\n",
              "    </tr>\n",
              "    <tr>\n",
              "      <th>max</th>\n",
              "      <td>92747.000000</td>\n",
              "    </tr>\n",
              "  </tbody>\n",
              "</table>\n",
              "</div>\n",
              "      <button class=\"colab-df-convert\" onclick=\"convertToInteractive('df-c6d31935-76a6-45b1-8815-b18036693b80')\"\n",
              "              title=\"Convert this dataframe to an interactive table.\"\n",
              "              style=\"display:none;\">\n",
              "\n",
              "  <svg xmlns=\"http://www.w3.org/2000/svg\" height=\"24px\"viewBox=\"0 0 24 24\"\n",
              "       width=\"24px\">\n",
              "    <path d=\"M0 0h24v24H0V0z\" fill=\"none\"/>\n",
              "    <path d=\"M18.56 5.44l.94 2.06.94-2.06 2.06-.94-2.06-.94-.94-2.06-.94 2.06-2.06.94zm-11 1L8.5 8.5l.94-2.06 2.06-.94-2.06-.94L8.5 2.5l-.94 2.06-2.06.94zm10 10l.94 2.06.94-2.06 2.06-.94-2.06-.94-.94-2.06-.94 2.06-2.06.94z\"/><path d=\"M17.41 7.96l-1.37-1.37c-.4-.4-.92-.59-1.43-.59-.52 0-1.04.2-1.43.59L10.3 9.45l-7.72 7.72c-.78.78-.78 2.05 0 2.83L4 21.41c.39.39.9.59 1.41.59.51 0 1.02-.2 1.41-.59l7.78-7.78 2.81-2.81c.8-.78.8-2.07 0-2.86zM5.41 20L4 18.59l7.72-7.72 1.47 1.35L5.41 20z\"/>\n",
              "  </svg>\n",
              "      </button>\n",
              "\n",
              "\n",
              "\n",
              "    <div id=\"df-875887e9-fc37-40e3-9c8e-6a811e194f8d\">\n",
              "      <button class=\"colab-df-quickchart\" onclick=\"quickchart('df-875887e9-fc37-40e3-9c8e-6a811e194f8d')\"\n",
              "              title=\"Suggest charts.\"\n",
              "              style=\"display:none;\">\n",
              "\n",
              "<svg xmlns=\"http://www.w3.org/2000/svg\" height=\"24px\"viewBox=\"0 0 24 24\"\n",
              "     width=\"24px\">\n",
              "    <g>\n",
              "        <path d=\"M19 3H5c-1.1 0-2 .9-2 2v14c0 1.1.9 2 2 2h14c1.1 0 2-.9 2-2V5c0-1.1-.9-2-2-2zM9 17H7v-7h2v7zm4 0h-2V7h2v10zm4 0h-2v-4h2v4z\"/>\n",
              "    </g>\n",
              "</svg>\n",
              "      </button>\n",
              "    </div>\n",
              "\n",
              "<style>\n",
              "  .colab-df-quickchart {\n",
              "    background-color: #E8F0FE;\n",
              "    border: none;\n",
              "    border-radius: 50%;\n",
              "    cursor: pointer;\n",
              "    display: none;\n",
              "    fill: #1967D2;\n",
              "    height: 32px;\n",
              "    padding: 0 0 0 0;\n",
              "    width: 32px;\n",
              "  }\n",
              "\n",
              "  .colab-df-quickchart:hover {\n",
              "    background-color: #E2EBFA;\n",
              "    box-shadow: 0px 1px 2px rgba(60, 64, 67, 0.3), 0px 1px 3px 1px rgba(60, 64, 67, 0.15);\n",
              "    fill: #174EA6;\n",
              "  }\n",
              "\n",
              "  [theme=dark] .colab-df-quickchart {\n",
              "    background-color: #3B4455;\n",
              "    fill: #D2E3FC;\n",
              "  }\n",
              "\n",
              "  [theme=dark] .colab-df-quickchart:hover {\n",
              "    background-color: #434B5C;\n",
              "    box-shadow: 0px 1px 3px 1px rgba(0, 0, 0, 0.15);\n",
              "    filter: drop-shadow(0px 1px 2px rgba(0, 0, 0, 0.3));\n",
              "    fill: #FFFFFF;\n",
              "  }\n",
              "</style>\n",
              "\n",
              "    <script>\n",
              "      async function quickchart(key) {\n",
              "        const containerElement = document.querySelector('#' + key);\n",
              "        const charts = await google.colab.kernel.invokeFunction(\n",
              "            'suggestCharts', [key], {});\n",
              "      }\n",
              "    </script>\n",
              "\n",
              "      <script>\n",
              "\n",
              "function displayQuickchartButton(domScope) {\n",
              "  let quickchartButtonEl =\n",
              "    domScope.querySelector('#df-875887e9-fc37-40e3-9c8e-6a811e194f8d button.colab-df-quickchart');\n",
              "  quickchartButtonEl.style.display =\n",
              "    google.colab.kernel.accessAllowed ? 'block' : 'none';\n",
              "}\n",
              "\n",
              "        displayQuickchartButton(document);\n",
              "      </script>\n",
              "      <style>\n",
              "    .colab-df-container {\n",
              "      display:flex;\n",
              "      flex-wrap:wrap;\n",
              "      gap: 12px;\n",
              "    }\n",
              "\n",
              "    .colab-df-convert {\n",
              "      background-color: #E8F0FE;\n",
              "      border: none;\n",
              "      border-radius: 50%;\n",
              "      cursor: pointer;\n",
              "      display: none;\n",
              "      fill: #1967D2;\n",
              "      height: 32px;\n",
              "      padding: 0 0 0 0;\n",
              "      width: 32px;\n",
              "    }\n",
              "\n",
              "    .colab-df-convert:hover {\n",
              "      background-color: #E2EBFA;\n",
              "      box-shadow: 0px 1px 2px rgba(60, 64, 67, 0.3), 0px 1px 3px 1px rgba(60, 64, 67, 0.15);\n",
              "      fill: #174EA6;\n",
              "    }\n",
              "\n",
              "    [theme=dark] .colab-df-convert {\n",
              "      background-color: #3B4455;\n",
              "      fill: #D2E3FC;\n",
              "    }\n",
              "\n",
              "    [theme=dark] .colab-df-convert:hover {\n",
              "      background-color: #434B5C;\n",
              "      box-shadow: 0px 1px 3px 1px rgba(0, 0, 0, 0.15);\n",
              "      filter: drop-shadow(0px 1px 2px rgba(0, 0, 0, 0.3));\n",
              "      fill: #FFFFFF;\n",
              "    }\n",
              "  </style>\n",
              "\n",
              "      <script>\n",
              "        const buttonEl =\n",
              "          document.querySelector('#df-c6d31935-76a6-45b1-8815-b18036693b80 button.colab-df-convert');\n",
              "        buttonEl.style.display =\n",
              "          google.colab.kernel.accessAllowed ? 'block' : 'none';\n",
              "\n",
              "        async function convertToInteractive(key) {\n",
              "          const element = document.querySelector('#df-c6d31935-76a6-45b1-8815-b18036693b80');\n",
              "          const dataTable =\n",
              "            await google.colab.kernel.invokeFunction('convertToInteractive',\n",
              "                                                     [key], {});\n",
              "          if (!dataTable) return;\n",
              "\n",
              "          const docLinkHtml = 'Like what you see? Visit the ' +\n",
              "            '<a target=\"_blank\" href=https://colab.research.google.com/notebooks/data_table.ipynb>data table notebook</a>'\n",
              "            + ' to learn more about interactive tables.';\n",
              "          element.innerHTML = '';\n",
              "          dataTable['output_type'] = 'display_data';\n",
              "          await google.colab.output.renderOutput(dataTable, element);\n",
              "          const docLink = document.createElement('div');\n",
              "          docLink.innerHTML = docLinkHtml;\n",
              "          element.appendChild(docLink);\n",
              "        }\n",
              "      </script>\n",
              "    </div>\n",
              "  </div>\n"
            ]
          },
          "metadata": {},
          "execution_count": 8
        }
      ]
    },
    {
      "cell_type": "code",
      "source": [
        "min_index = df['length'].idxmin()\n",
        "min_row = df.loc[min_index]\n",
        "print(min_row)"
      ],
      "metadata": {
        "colab": {
          "base_uri": "https://localhost:8080/"
        },
        "id": "wonYTCTm3ToJ",
        "outputId": "78e55264-f20f-4cc2-f907-b1922309a12a"
      },
      "execution_count": null,
      "outputs": [
        {
          "output_type": "stream",
          "name": "stdout",
          "text": [
            "filename    bartok396.mid\n",
            "length                228\n",
            "Name: 6, dtype: object\n"
          ]
        }
      ]
    },
    {
      "cell_type": "code",
      "source": [
        "max_index = df['length'].idxmax()\n",
        "max_row = df.loc[max_index]\n",
        "print(max_row)"
      ],
      "metadata": {
        "colab": {
          "base_uri": "https://localhost:8080/"
        },
        "id": "H-qr5WpS6XFI",
        "outputId": "fab98302-f158-4fc6-f088-245854d9bbf0"
      },
      "execution_count": null,
      "outputs": [
        {
          "output_type": "stream",
          "name": "stdout",
          "text": [
            "filename    mendelssohn272.mid\n",
            "length                   92747\n",
            "Name: 139, dtype: object\n"
          ]
        }
      ]
    },
    {
      "cell_type": "code",
      "source": [
        "def trim_midi_to_length(midi_file, desired_length, output_file):\n",
        "    # Load MIDI file\n",
        "    mid = mido.MidiFile(midi_file)\n",
        "\n",
        "    # Create a new MIDI file to store the trimmed data\n",
        "    trimmed_midi = mido.MidiFile()\n",
        "\n",
        "    for i, track in enumerate(mid.tracks):\n",
        "        trimmed_track = mido.MidiTrack()\n",
        "        time_passed = 0\n",
        "        for msg in track:\n",
        "            # Update time passed\n",
        "            time_passed += msg.time\n",
        "            # If the time passed has exceeded the desired length, stop adding events\n",
        "            if time_passed > desired_length * mid.ticks_per_beat:\n",
        "                break\n",
        "            # Add the message to the new track\n",
        "            trimmed_track.append(msg)\n",
        "        # Add the new track to the new MIDI file\n",
        "        trimmed_midi.tracks.append(trimmed_track)\n",
        "\n",
        "    # Save the new MIDI file\n",
        "    trimmed_midi.save(output_file)"
      ],
      "metadata": {
        "id": "fj9qJZ7n4fkq"
      },
      "execution_count": null,
      "outputs": []
    },
    {
      "cell_type": "code",
      "source": [
        "trim_midi_to_length('/content/drive/MyDrive/Colab Notebooks/Data/Composer_Dataset/NN_midi_files_extended/train/bartok/bartok396.mid', 20, '/content/drive/MyDrive/Colab Notebooks/Data/Composer_Dataset/Trimmed/train/bartok/bartok396_trim.mid')"
      ],
      "metadata": {
        "id": "qHyRVS8i4mlu"
      },
      "execution_count": null,
      "outputs": []
    },
    {
      "cell_type": "code",
      "source": [
        "mid1 = mido.MidiFile('/content/drive/MyDrive/Colab Notebooks/Data/Composer_Dataset/Trimmed/train/bartok/bartok396_trim.mid', clip=True)"
      ],
      "metadata": {
        "id": "_XmjHd4U5MyD"
      },
      "execution_count": null,
      "outputs": []
    },
    {
      "cell_type": "code",
      "source": [
        "mid_array1 = mid2arry(mid1)\n",
        "bytes = mid_array1.nbytes\n",
        "kilobytes = bytes / 1024\n",
        "megabytes = kilobytes / 1024\n",
        "gigabytes = megabytes / 1024\n",
        "print(megabytes, 'MB')"
      ],
      "metadata": {
        "colab": {
          "base_uri": "https://localhost:8080/"
        },
        "id": "5STQeQN-5Tka",
        "outputId": "6014c5ec-e63e-40fb-bf86-2fb5eb5d4d6d"
      },
      "execution_count": null,
      "outputs": [
        {
          "output_type": "stream",
          "name": "stdout",
          "text": [
            "6.35198974609375 MB\n"
          ]
        }
      ]
    },
    {
      "cell_type": "code",
      "source": [
        "mid_array1.shape"
      ],
      "metadata": {
        "colab": {
          "base_uri": "https://localhost:8080/"
        },
        "id": "SXi2O4Er7dYZ",
        "outputId": "c7667377-ba80-49b1-b702-eec3b5676d61"
      },
      "execution_count": null,
      "outputs": [
        {
          "output_type": "execute_result",
          "data": {
            "text/plain": [
              "(9461, 88)"
            ]
          },
          "metadata": {},
          "execution_count": 25
        }
      ]
    },
    {
      "cell_type": "code",
      "source": [
        "trim_midi_to_length('/content/drive/MyDrive/Colab Notebooks/Data/Composer_Dataset/NN_midi_files_extended/train/mendelssohn/mendelssohn276.mid', 20, '/content/drive/MyDrive/Colab Notebooks/Data/Composer_Dataset/Trimmed/train/mendelssohn/mendelssohn276_trim.mid')"
      ],
      "metadata": {
        "id": "d70bYwFc6s2r"
      },
      "execution_count": null,
      "outputs": []
    },
    {
      "cell_type": "code",
      "source": [
        "mid2 = mido.MidiFile('/content/drive/MyDrive/Colab Notebooks/Data/Composer_Dataset/Trimmed/train/mendelssohn/mendelssohn276_trim.mid', clip=True)\n",
        "mid_array2 = mid2arry(mid2)\n",
        "bytes = mid_array2.nbytes\n",
        "kilobytes = bytes / 1024\n",
        "megabytes = kilobytes / 1024\n",
        "gigabytes = megabytes / 1024\n",
        "print(megabytes, 'MB')"
      ],
      "metadata": {
        "colab": {
          "base_uri": "https://localhost:8080/"
        },
        "id": "bZUvXFBA6_Uw",
        "outputId": "407e4776-17ba-42bb-d70e-80f0297b100b"
      },
      "execution_count": null,
      "outputs": [
        {
          "output_type": "stream",
          "name": "stdout",
          "text": [
            "1.4354248046875 MB\n"
          ]
        }
      ]
    },
    {
      "cell_type": "code",
      "source": [
        "mid_array2.shape"
      ],
      "metadata": {
        "colab": {
          "base_uri": "https://localhost:8080/"
        },
        "id": "MVxKY3Gk7X9M",
        "outputId": "32554cd4-44c3-4a8a-9db0-750ebc4d92d6"
      },
      "execution_count": null,
      "outputs": [
        {
          "output_type": "execute_result",
          "data": {
            "text/plain": [
              "(2138, 88)"
            ]
          },
          "metadata": {},
          "execution_count": 35
        }
      ]
    },
    {
      "cell_type": "code",
      "source": [
        "def trim_midi_to_length_rf(midi_file, desired_length):\n",
        "    # Load MIDI file\n",
        "    mid = mido.MidiFile(midi_file)\n",
        "\n",
        "    # Create a new MIDI file to store the trimmed data\n",
        "    trimmed_midi = mido.MidiFile()\n",
        "\n",
        "    for i, track in enumerate(mid.tracks):\n",
        "        trimmed_track = mido.MidiTrack()\n",
        "        time_passed = 0\n",
        "        for msg in track:\n",
        "            # Update time passed\n",
        "            time_passed += msg.time\n",
        "            # If the time passed has exceeded the desired length, stop adding events\n",
        "            if time_passed > desired_length * mid.ticks_per_beat:\n",
        "                break\n",
        "            # Add the message to the new track\n",
        "            trimmed_track.append(msg)\n",
        "        # Add the new track to the new MIDI file\n",
        "        trimmed_midi.tracks.append(trimmed_track)\n",
        "\n",
        "    # Return the trimmed MIDI file\n",
        "    return trimmed_midi"
      ],
      "metadata": {
        "id": "gw6eP-kMCDnE"
      },
      "execution_count": null,
      "outputs": []
    },
    {
      "cell_type": "code",
      "source": [
        "# The wrapper function to load a MIDI file and extract features\n",
        "def extract_features1(midi_file):\n",
        "    return mid2arry(midi_file)"
      ],
      "metadata": {
        "id": "vG8uUVnrEvGS"
      },
      "execution_count": null,
      "outputs": []
    },
    {
      "cell_type": "code",
      "source": [
        "# Define counters\n",
        "file_count = 0\n",
        "\n",
        "save_dir = \"/content/drive/MyDrive/Colab Notebooks/Data/Composer_Dataset/Trimmed/train/\"\n",
        "\n",
        "# Loop through the files in your train directory\n",
        "for dirpath, dirnames, filenames in os.walk('/content/drive/MyDrive/Colab Notebooks/Data/Composer_Dataset/NN_midi_files_extended/train/'):\n",
        "    for filename in tqdm(filenames, desc=os.path.basename(dirpath)):\n",
        "        if filename.endswith('.mid'):\n",
        "            full_file_path = os.path.join(dirpath, filename)  # get full file path\n",
        "\n",
        "            try:\n",
        "                midi_features = extract_features1(trim_midi_to_length_rf(full_file_path, 15))\n",
        "\n",
        "                # Get the composer's name from the directory name\n",
        "                composer = os.path.basename(dirpath)\n",
        "\n",
        "                # Save this file's data and label\n",
        "                np.save(f'{save_dir}/{composer}/data_{file_count}.npy', np.array(midi_features))\n",
        "                np.save(f'{save_dir}/{composer}/labels_{file_count}.npy', np.array(composer))\n",
        "\n",
        "                file_count += 1\n",
        "\n",
        "            except Exception as e:\n",
        "                print(f\"Skipping file {full_file_path} due to error: {e}\")\n",
        "                continue"
      ],
      "metadata": {
        "colab": {
          "base_uri": "https://localhost:8080/"
        },
        "id": "k1Q0kBXgAk04",
        "outputId": "195db82d-5ae5-4c2b-86da-ae40893c5bc4"
      },
      "execution_count": null,
      "outputs": [
        {
          "output_type": "stream",
          "name": "stderr",
          "text": [
            "100%|██████████| 1/1 [00:00<00:00, 10356.31it/s]\n",
            "bartok: 100%|██████████| 43/43 [01:22<00:00,  1.92s/it]\n",
            "bach: 100%|██████████| 43/43 [01:04<00:00,  1.49s/it]\n",
            "schumann: 100%|██████████| 39/39 [01:12<00:00,  1.87s/it]\n",
            "mendelssohn: 100%|██████████| 44/44 [01:21<00:00,  1.86s/it]\n",
            "handel: 100%|██████████| 42/42 [01:16<00:00,  1.83s/it]\n",
            "byrd: 100%|██████████| 43/43 [01:02<00:00,  1.45s/it]\n",
            "mozart:  24%|██▍       | 10/42 [00:21<00:57,  1.79s/it]"
          ]
        },
        {
          "output_type": "stream",
          "name": "stdout",
          "text": [
            "Skipping file /content/drive/MyDrive/Colab Notebooks/Data/Composer_Dataset/NN_midi_files_extended/train/mozart/mozart008.mid due to error: min() arg is an empty sequence\n"
          ]
        },
        {
          "output_type": "stream",
          "name": "stderr",
          "text": [
            "mozart: 100%|██████████| 42/42 [01:23<00:00,  1.98s/it]\n",
            "hummel:  23%|██▎       | 10/43 [00:16<00:59,  1.79s/it]"
          ]
        },
        {
          "output_type": "stream",
          "name": "stdout",
          "text": [
            "Skipping file /content/drive/MyDrive/Colab Notebooks/Data/Composer_Dataset/NN_midi_files_extended/train/hummel/hummel338.mid due to error: min() arg is an empty sequence\n"
          ]
        },
        {
          "output_type": "stream",
          "name": "stderr",
          "text": [
            "hummel:  88%|████████▊ | 38/43 [01:08<00:09,  2.00s/it]"
          ]
        },
        {
          "output_type": "stream",
          "name": "stdout",
          "text": [
            "Skipping file /content/drive/MyDrive/Colab Notebooks/Data/Composer_Dataset/NN_midi_files_extended/train/hummel/hummel340.mid due to error: min() arg is an empty sequence\n"
          ]
        },
        {
          "output_type": "stream",
          "name": "stderr",
          "text": [
            "hummel: 100%|██████████| 43/43 [01:19<00:00,  1.85s/it]\n"
          ]
        },
        {
          "output_type": "stream",
          "name": "stdout",
          "text": [
            "Skipping file /content/drive/MyDrive/Colab Notebooks/Data/Composer_Dataset/NN_midi_files_extended/train/hummel/hummel300.mid due to error: min() arg is an empty sequence\n"
          ]
        },
        {
          "output_type": "stream",
          "name": "stderr",
          "text": [
            "chopin: 100%|██████████| 42/42 [01:03<00:00,  1.51s/it]\n"
          ]
        }
      ]
    },
    {
      "cell_type": "code",
      "source": [
        "from tensorflow.keras.preprocessing.sequence import pad_sequences\n",
        "load_dir = \"/content/drive/MyDrive/Colab Notebooks/Data/Composer_Dataset/Trimmed/train/\"\n",
        "\n",
        "combined_features = []\n",
        "combined_labels = []\n",
        "\n",
        "# Loop through the files in your saved directory\n",
        "for dirpath, dirnames, filenames in tqdm(os.walk(load_dir), desc=\"Loading arrays\"):\n",
        "    for filename in filenames:\n",
        "        if filename.startswith('data_') and filename.endswith('.npy'):\n",
        "            # Load the data array and append it to the combined_features list\n",
        "            data_array = np.load(os.path.join(dirpath, filename))\n",
        "            combined_features.append(data_array)\n",
        "            number = filename.split('_')[1].split('.')[0]\n",
        "            labelsname = f'labels_{number}.npy'\n",
        "            # Load the labels array and append it to the combined_labels list\n",
        "            labels_array = np.load(os.path.join(dirpath, labelsname))\n",
        "            combined_labels.append(labels_array)\n",
        "\n",
        "# Get maximum length of the sequences\n",
        "max_len = max([len(seq) for seq in combined_features])\n",
        "# Pad each sequence to the maximum length\n",
        "padded_features = pad_sequences(combined_features, maxlen=max_len, padding='post', dtype='float32')"
      ],
      "metadata": {
        "colab": {
          "base_uri": "https://localhost:8080/"
        },
        "id": "deZrJJkSG3Zx",
        "outputId": "1c207889-b70a-45c6-ef40-b5e1dbe70f69"
      },
      "execution_count": 3,
      "outputs": [
        {
          "output_type": "stream",
          "name": "stderr",
          "text": [
            "Loading arrays: 10it [05:38, 33.83s/it]\n"
          ]
        }
      ]
    },
    {
      "cell_type": "code",
      "source": [
        "padded_features.shape"
      ],
      "metadata": {
        "colab": {
          "base_uri": "https://localhost:8080/"
        },
        "id": "SeULSlChJiRX",
        "outputId": "445dc139-6061-44c6-8431-be1731c46c42"
      },
      "execution_count": 4,
      "outputs": [
        {
          "output_type": "execute_result",
          "data": {
            "text/plain": [
              "(373, 18290, 88)"
            ]
          },
          "metadata": {},
          "execution_count": 4
        }
      ]
    },
    {
      "cell_type": "code",
      "source": [
        "from sklearn.preprocessing import MinMaxScaler\n",
        "# Reshape it into 2D\n",
        "array_2d = padded_features.reshape(-1, padded_features.shape[-1])\n",
        "\n",
        "# Apply MinMaxScaler\n",
        "scaler = MinMaxScaler()\n",
        "scaled_array_2d = scaler.fit_transform(array_2d)\n",
        "\n",
        "# Reshape it back into 3D\n",
        "padded_features = scaled_array_2d.reshape(padded_features.shape)"
      ],
      "metadata": {
        "id": "UFeuDvkGfA2m"
      },
      "execution_count": 5,
      "outputs": []
    },
    {
      "cell_type": "code",
      "source": [
        "from sklearn.preprocessing import LabelEncoder\n",
        "from keras.utils import to_categorical\n",
        "\n",
        "# Initialize the LabelEncoder\n",
        "le = LabelEncoder()\n",
        "\n",
        "# Fit the LabelEncoder on your labels, and then transform the labels\n",
        "encoded_labels = le.fit_transform(combined_labels)\n",
        "\n",
        "# One-hot encode the integer labels\n",
        "one_hot_labels = to_categorical(encoded_labels)"
      ],
      "metadata": {
        "id": "z_3YeKnKJpc7"
      },
      "execution_count": 6,
      "outputs": []
    },
    {
      "cell_type": "code",
      "source": [
        "one_hot_labels.shape"
      ],
      "metadata": {
        "colab": {
          "base_uri": "https://localhost:8080/"
        },
        "id": "wDLr4xvVKcvA",
        "outputId": "302b25b7-c858-4cf6-a4c6-e8d00bd5d85c"
      },
      "execution_count": 7,
      "outputs": [
        {
          "output_type": "execute_result",
          "data": {
            "text/plain": [
              "(373, 9)"
            ]
          },
          "metadata": {},
          "execution_count": 7
        }
      ]
    },
    {
      "cell_type": "code",
      "source": [
        "from tensorflow.keras.models import Sequential\n",
        "from tensorflow.keras.layers import Conv1D, LSTM, MaxPooling1D, Dense, Dropout, TimeDistributed, Flatten, BatchNormalization\n",
        "from tensorflow.keras.callbacks import EarlyStopping\n",
        "# Define your model\n",
        "model = Sequential()\n",
        "\n",
        "# Convolutional Layer\n",
        "model.add(Conv1D(filters=64, kernel_size=3, activation='relu', input_shape=(18290, 88)))\n",
        "model.add(BatchNormalization())\n",
        "model.add(MaxPooling1D(pool_size=2))\n",
        "model.add(Dropout(0.2))\n",
        "\n",
        "# Convolutional Layer 2\n",
        "model.add(Conv1D(filters=128, kernel_size=3, activation='relu'))\n",
        "model.add(BatchNormalization())\n",
        "model.add(MaxPooling1D(pool_size=2))\n",
        "model.add(Dropout(0.2))\n",
        "\n",
        "# LSTM Layers\n",
        "model.add(LSTM(128, return_sequences=True))\n",
        "model.add(Dropout(0.2))\n",
        "\n",
        "model.add(LSTM(64, return_sequences=False))\n",
        "model.add(Dropout(0.2))\n",
        "\n",
        "# Dense Layer\n",
        "model.add(Dense(64, activation='relu'))\n",
        "model.add(Dropout(0.2))\n",
        "\n",
        "# Output Layer\n",
        "# Replace 'num_classes' with the number of composers in your dataset\n",
        "model.add(Dense(9, activation='softmax'))\n",
        "\n",
        "model.compile(loss='categorical_crossentropy', optimizer='adam', metrics=['accuracy'])\n",
        "\n",
        "# Define a callback to prevent overfitting\n",
        "es = EarlyStopping(monitor='val_loss', mode='min', verbose=1, patience=5)\n",
        "\n",
        "# Train the model\n",
        "history = model.fit(padded_features, one_hot_labels, epochs=50, batch_size=32, validation_split=0.2, callbacks=[es])"
      ],
      "metadata": {
        "colab": {
          "base_uri": "https://localhost:8080/"
        },
        "id": "6mNcK1fCdWqv",
        "outputId": "ea34f6e2-018e-4ba3-9ac2-458145aea083"
      },
      "execution_count": 9,
      "outputs": [
        {
          "output_type": "stream",
          "name": "stdout",
          "text": [
            "Epoch 1/50\n",
            "10/10 [==============================] - 22s 593ms/step - loss: 2.1980 - accuracy: 0.1208 - val_loss: 2.2621 - val_accuracy: 0.0000e+00\n",
            "Epoch 2/50\n",
            "10/10 [==============================] - 4s 397ms/step - loss: 2.1215 - accuracy: 0.1174 - val_loss: 2.3651 - val_accuracy: 0.0000e+00\n",
            "Epoch 3/50\n",
            "10/10 [==============================] - 4s 398ms/step - loss: 2.0944 - accuracy: 0.1376 - val_loss: 2.4904 - val_accuracy: 0.0000e+00\n",
            "Epoch 4/50\n",
            "10/10 [==============================] - 4s 400ms/step - loss: 2.0922 - accuracy: 0.1174 - val_loss: 2.6459 - val_accuracy: 0.0000e+00\n",
            "Epoch 5/50\n",
            "10/10 [==============================] - 4s 398ms/step - loss: 2.0865 - accuracy: 0.1443 - val_loss: 2.7618 - val_accuracy: 0.0000e+00\n",
            "Epoch 6/50\n",
            "10/10 [==============================] - 4s 398ms/step - loss: 2.0781 - accuracy: 0.1208 - val_loss: 2.8459 - val_accuracy: 0.0000e+00\n",
            "Epoch 6: early stopping\n"
          ]
        }
      ]
    },
    {
      "cell_type": "code",
      "source": [
        "from tensorflow.keras.models import Sequential\n",
        "from tensorflow.keras.layers import Conv1D, MaxPooling1D, Flatten, Dense, Dropout, BatchNormalization\n",
        "from tensorflow.keras.callbacks import EarlyStopping\n",
        "\n",
        "# Define your model\n",
        "model = Sequential()\n",
        "\n",
        "# Convolutional Layer 1\n",
        "model.add(Conv1D(filters=64, kernel_size=3, activation='relu', input_shape=(18290, 88)))\n",
        "model.add(BatchNormalization())\n",
        "model.add(MaxPooling1D(pool_size=2))\n",
        "model.add(Dropout(0.2))\n",
        "\n",
        "# Convolutional Layer 2\n",
        "model.add(Conv1D(filters=128, kernel_size=3, activation='relu'))\n",
        "model.add(BatchNormalization())\n",
        "model.add(MaxPooling1D(pool_size=2))\n",
        "model.add(Dropout(0.2))\n",
        "\n",
        "# Flatten Layer\n",
        "model.add(Flatten())\n",
        "\n",
        "# Dense Layer 1\n",
        "model.add(Dense(64, activation='relu'))\n",
        "model.add(Dropout(0.2))\n",
        "\n",
        "# Output Layer\n",
        "model.add(Dense(9, activation='softmax'))\n",
        "\n",
        "model.compile(loss='categorical_crossentropy', optimizer='adam', metrics=['accuracy'])\n",
        "\n",
        "# Define a callback to prevent overfitting\n",
        "es = EarlyStopping(monitor='val_loss', mode='min', verbose=1, patience=5)\n",
        "\n",
        "# Train the model\n",
        "history = model.fit(padded_features, one_hot_labels, epochs=50, batch_size=32, validation_split=0.2, callbacks=[es])\n",
        "\n"
      ],
      "metadata": {
        "colab": {
          "base_uri": "https://localhost:8080/"
        },
        "id": "Ki0hZsZyKhdU",
        "outputId": "5a3b6703-ef0d-4ff3-d7dd-07e066477e83"
      },
      "execution_count": 9,
      "outputs": [
        {
          "output_type": "stream",
          "name": "stdout",
          "text": [
            "Epoch 1/50\n",
            "10/10 [==============================] - 16s 278ms/step - loss: 57.5532 - accuracy: 0.2047 - val_loss: 9.2383 - val_accuracy: 0.0133\n",
            "Epoch 2/50\n",
            "10/10 [==============================] - 1s 133ms/step - loss: 7.5602 - accuracy: 0.3658 - val_loss: 23.1675 - val_accuracy: 0.0000e+00\n",
            "Epoch 3/50\n",
            "10/10 [==============================] - 1s 140ms/step - loss: 3.7252 - accuracy: 0.2584 - val_loss: 36.1496 - val_accuracy: 0.0000e+00\n",
            "Epoch 4/50\n",
            "10/10 [==============================] - 1s 142ms/step - loss: 2.3155 - accuracy: 0.3322 - val_loss: 51.5494 - val_accuracy: 0.0000e+00\n",
            "Epoch 5/50\n",
            "10/10 [==============================] - 1s 134ms/step - loss: 3.5565 - accuracy: 0.3389 - val_loss: 70.6265 - val_accuracy: 0.0000e+00\n",
            "Epoch 6/50\n",
            "10/10 [==============================] - 1s 136ms/step - loss: 2.3110 - accuracy: 0.3289 - val_loss: 99.8503 - val_accuracy: 0.0000e+00\n",
            "Epoch 6: early stopping\n"
          ]
        }
      ]
    },
    {
      "cell_type": "code",
      "source": [
        "model.save('/content/drive/MyDrive/Colab Notebooks/models/MSAAI511_FP_LSTM_model.h5') # you can provide your desired path and filename here\n",
        "print(\"Model saved successfully!\")"
      ],
      "metadata": {
        "id": "lu4_xE24Wjag",
        "colab": {
          "base_uri": "https://localhost:8080/"
        },
        "outputId": "be08559c-9c8e-416f-bb75-3f8e94ceec8a"
      },
      "execution_count": 10,
      "outputs": [
        {
          "output_type": "stream",
          "name": "stdout",
          "text": [
            "Model saved successfully!\n"
          ]
        }
      ]
    },
    {
      "cell_type": "code",
      "source": [
        "from sklearn.metrics import classification_report\n",
        "\n",
        "# Suppose X_test is your test data\n",
        "y_pred_probs = model.predict(padded_features)\n",
        "\n",
        "# The model's predict function will return a matrix of probabilities.\n",
        "# To convert these probabilities into concrete class predictions,\n",
        "# you can take the class with the highest probability for each sample as the predicted class:\n",
        "y_pred = np.argmax(y_pred_probs, axis=1)\n",
        "\n",
        "# Suppose y_test are the true labels of the test data\n",
        "y_true = np.argmax(one_hot_labels, axis=1)  # if y_test is one-hot encoded\n",
        "\n",
        "print(classification_report(y_true, y_pred))"
      ],
      "metadata": {
        "colab": {
          "base_uri": "https://localhost:8080/"
        },
        "id": "5qrXRfDeRPIf",
        "outputId": "d82fae0c-0c06-432d-f765-45b4b2597e51"
      },
      "execution_count": 10,
      "outputs": [
        {
          "output_type": "stream",
          "name": "stdout",
          "text": [
            "12/12 [==============================] - 3s 192ms/step\n",
            "              precision    recall  f1-score   support\n",
            "\n",
            "           0       0.00      0.00      0.00        42\n",
            "           1       0.11      1.00      0.20        42\n",
            "           2       0.00      0.00      0.00        42\n",
            "           3       0.00      0.00      0.00        43\n",
            "           4       0.00      0.00      0.00        41\n",
            "           5       0.00      0.00      0.00        41\n",
            "           6       0.00      0.00      0.00        43\n",
            "           7       0.00      0.00      0.00        41\n",
            "           8       0.00      0.00      0.00        38\n",
            "\n",
            "    accuracy                           0.11       373\n",
            "   macro avg       0.01      0.11      0.02       373\n",
            "weighted avg       0.01      0.11      0.02       373\n",
            "\n"
          ]
        },
        {
          "output_type": "stream",
          "name": "stderr",
          "text": [
            "/usr/local/lib/python3.10/dist-packages/sklearn/metrics/_classification.py:1344: UndefinedMetricWarning: Precision and F-score are ill-defined and being set to 0.0 in labels with no predicted samples. Use `zero_division` parameter to control this behavior.\n",
            "  _warn_prf(average, modifier, msg_start, len(result))\n",
            "/usr/local/lib/python3.10/dist-packages/sklearn/metrics/_classification.py:1344: UndefinedMetricWarning: Precision and F-score are ill-defined and being set to 0.0 in labels with no predicted samples. Use `zero_division` parameter to control this behavior.\n",
            "  _warn_prf(average, modifier, msg_start, len(result))\n",
            "/usr/local/lib/python3.10/dist-packages/sklearn/metrics/_classification.py:1344: UndefinedMetricWarning: Precision and F-score are ill-defined and being set to 0.0 in labels with no predicted samples. Use `zero_division` parameter to control this behavior.\n",
            "  _warn_prf(average, modifier, msg_start, len(result))\n"
          ]
        }
      ]
    },
    {
      "cell_type": "code",
      "source": [
        "y_true"
      ],
      "metadata": {
        "colab": {
          "base_uri": "https://localhost:8080/"
        },
        "id": "x1v4YR-3ZdXO",
        "outputId": "827c00bd-d528-4ce6-e2ef-8f5924648ec2"
      },
      "execution_count": 11,
      "outputs": [
        {
          "output_type": "execute_result",
          "data": {
            "text/plain": [
              "array([1, 1, 1, 1, 1, 1, 1, 1, 1, 1, 1, 1, 1, 1, 1, 1, 1, 1, 1, 1, 1, 1,\n",
              "       1, 1, 1, 1, 1, 1, 1, 1, 1, 1, 1, 1, 1, 1, 1, 1, 1, 1, 1, 1, 6, 6,\n",
              "       6, 6, 6, 6, 6, 6, 6, 6, 6, 6, 6, 6, 6, 6, 6, 6, 6, 6, 6, 6, 6, 6,\n",
              "       6, 6, 6, 6, 6, 6, 6, 6, 6, 6, 6, 6, 6, 6, 6, 6, 6, 6, 6, 0, 0, 0,\n",
              "       0, 0, 0, 0, 0, 0, 0, 0, 0, 0, 0, 0, 0, 0, 0, 0, 0, 0, 0, 0, 0, 0,\n",
              "       0, 0, 0, 0, 0, 0, 0, 0, 0, 0, 0, 0, 0, 0, 0, 0, 0, 5, 5, 5, 5, 5,\n",
              "       5, 5, 5, 5, 5, 5, 5, 5, 5, 5, 5, 5, 5, 5, 5, 5, 5, 5, 5, 5, 5, 5,\n",
              "       5, 5, 5, 5, 5, 5, 5, 5, 5, 5, 5, 5, 5, 5, 8, 8, 8, 8, 8, 8, 8, 8,\n",
              "       8, 8, 8, 8, 8, 8, 8, 8, 8, 8, 8, 8, 8, 8, 8, 8, 8, 8, 8, 8, 8, 8,\n",
              "       8, 8, 8, 8, 8, 8, 8, 8, 2, 2, 2, 2, 2, 2, 2, 2, 2, 2, 2, 2, 2, 2,\n",
              "       2, 2, 2, 2, 2, 2, 2, 2, 2, 2, 2, 2, 2, 2, 2, 2, 2, 2, 2, 2, 2, 2,\n",
              "       2, 2, 2, 2, 2, 2, 4, 4, 4, 4, 4, 4, 4, 4, 4, 4, 4, 4, 4, 4, 4, 4,\n",
              "       4, 4, 4, 4, 4, 4, 4, 4, 4, 4, 4, 4, 4, 4, 4, 4, 4, 4, 4, 4, 4, 4,\n",
              "       4, 4, 4, 3, 3, 3, 3, 3, 3, 3, 3, 3, 3, 3, 3, 3, 3, 3, 3, 3, 3, 3,\n",
              "       3, 3, 3, 3, 3, 3, 3, 3, 3, 3, 3, 3, 3, 3, 3, 3, 3, 3, 3, 3, 3, 3,\n",
              "       3, 3, 7, 7, 7, 7, 7, 7, 7, 7, 7, 7, 7, 7, 7, 7, 7, 7, 7, 7, 7, 7,\n",
              "       7, 7, 7, 7, 7, 7, 7, 7, 7, 7, 7, 7, 7, 7, 7, 7, 7, 7, 7, 7, 7])"
            ]
          },
          "metadata": {},
          "execution_count": 11
        }
      ]
    },
    {
      "cell_type": "code",
      "source": [
        "y_pred"
      ],
      "metadata": {
        "colab": {
          "base_uri": "https://localhost:8080/"
        },
        "id": "UocazN2BePSR",
        "outputId": "af91b5b4-2eca-422b-e5b5-66475ca96617"
      },
      "execution_count": 12,
      "outputs": [
        {
          "output_type": "execute_result",
          "data": {
            "text/plain": [
              "array([1, 1, 1, 1, 1, 1, 1, 1, 1, 1, 1, 1, 1, 1, 1, 1, 1, 1, 1, 1, 1, 1,\n",
              "       1, 1, 1, 1, 1, 1, 1, 1, 1, 1, 1, 1, 1, 1, 1, 1, 1, 1, 1, 1, 1, 1,\n",
              "       1, 1, 1, 1, 1, 1, 1, 1, 1, 1, 1, 1, 1, 1, 1, 1, 1, 1, 1, 1, 1, 1,\n",
              "       1, 1, 1, 1, 1, 1, 1, 1, 1, 1, 1, 1, 1, 1, 1, 1, 1, 1, 1, 1, 1, 1,\n",
              "       1, 1, 1, 1, 1, 1, 1, 1, 1, 1, 1, 1, 1, 1, 1, 1, 1, 1, 1, 1, 1, 1,\n",
              "       1, 1, 1, 1, 1, 1, 1, 1, 1, 1, 1, 1, 1, 1, 1, 1, 1, 1, 1, 1, 1, 1,\n",
              "       1, 1, 1, 1, 1, 1, 1, 1, 1, 1, 1, 1, 1, 1, 1, 1, 1, 1, 1, 1, 1, 1,\n",
              "       1, 1, 1, 1, 1, 1, 1, 1, 1, 1, 1, 1, 1, 1, 1, 1, 1, 1, 1, 1, 1, 1,\n",
              "       1, 1, 1, 1, 1, 1, 1, 1, 1, 1, 1, 1, 1, 1, 1, 1, 1, 1, 1, 1, 1, 1,\n",
              "       1, 1, 1, 1, 1, 1, 1, 1, 1, 1, 1, 1, 1, 1, 1, 1, 1, 1, 1, 1, 1, 1,\n",
              "       1, 1, 1, 1, 1, 1, 1, 1, 1, 1, 1, 1, 1, 1, 1, 1, 1, 1, 1, 1, 1, 1,\n",
              "       1, 1, 1, 1, 1, 1, 1, 1, 1, 1, 1, 1, 1, 1, 1, 1, 1, 1, 1, 1, 1, 1,\n",
              "       1, 1, 1, 1, 1, 1, 1, 1, 1, 1, 1, 1, 1, 1, 1, 1, 1, 1, 1, 1, 1, 1,\n",
              "       1, 1, 1, 8, 1, 1, 1, 1, 1, 1, 1, 1, 1, 1, 1, 1, 1, 1, 1, 1, 1, 1,\n",
              "       1, 1, 1, 1, 1, 1, 1, 1, 1, 1, 1, 1, 1, 1, 1, 1, 1, 1, 1, 1, 1, 1,\n",
              "       1, 1, 1, 1, 1, 1, 1, 1, 1, 1, 1, 1, 1, 1, 1, 1, 1, 1, 1, 1, 1, 1,\n",
              "       1, 1, 1, 1, 1, 1, 1, 1, 1, 1, 1, 1, 1, 1, 1, 1, 1, 1, 1, 1, 1])"
            ]
          },
          "metadata": {},
          "execution_count": 12
        }
      ]
    }
  ]
}