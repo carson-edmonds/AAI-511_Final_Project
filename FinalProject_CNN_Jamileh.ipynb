{
 "cells": [
  {
   "cell_type": "code",
   "execution_count": 1,
   "id": "80c8497f-1534-4929-aff1-ef9970a576a8",
   "metadata": {
    "tags": []
   },
   "outputs": [
    {
     "name": "stderr",
     "output_type": "stream",
     "text": [
      "2023-08-14 00:39:22.243094: I tensorflow/core/platform/cpu_feature_guard.cc:182] This TensorFlow binary is optimized to use available CPU instructions in performance-critical operations.\n",
      "To enable the following instructions: AVX2 FMA, in other operations, rebuild TensorFlow with the appropriate compiler flags.\n"
     ]
    }
   ],
   "source": [
    "import os\n",
    "import numpy as np\n",
    "import pretty_midi\n",
    "from tensorflow.keras.models import Sequential\n",
    "from tensorflow.keras.layers import Conv2D, MaxPooling2D, Flatten, Dense\n",
    "from tensorflow.keras.utils import to_categorical\n",
    "from sklearn.preprocessing import LabelEncoder\n",
    "from sklearn.model_selection import train_test_split\n",
    "import warnings"
   ]
  },
  {
   "cell_type": "code",
   "execution_count": 2,
   "id": "2ab63415-6f0d-4e5e-b15c-b393d8df3546",
   "metadata": {
    "tags": []
   },
   "outputs": [],
   "source": [
    "# Ignore specific warning from pretty_midi\n",
    "warnings.filterwarnings('ignore', category=RuntimeWarning, module='pretty_midi.pretty_midi')"
   ]
  },
  {
   "cell_type": "code",
   "execution_count": 3,
   "id": "ad136912-48e2-4a98-82b9-c7e4869b87f1",
   "metadata": {
    "tags": []
   },
   "outputs": [],
   "source": [
    "# Function to convert MIDI to piano roll\n",
    "def midi_to_piano_roll(midi_file):\n",
    "    try:\n",
    "        midi = pretty_midi.PrettyMIDI(midi_file)\n",
    "        piano_roll = midi.get_piano_roll(fs=25)\n",
    "        return np.asarray(piano_roll)\n",
    "    except Exception as e:\n",
    "        print(f\"Error in {midi_file}: {e}\")\n",
    "        return None\n",
    "\n",
    "# Load the data\n",
    "def load_data_from_folder(folder):\n",
    "    composers = os.listdir(folder)\n",
    "    labels, piano_rolls = [], []\n",
    "    for composer in composers:\n",
    "        composer_path = os.path.join(folder, composer)\n",
    "        if os.path.isdir(composer_path):\n",
    "            for midi_file in os.listdir(composer_path):\n",
    "                if midi_file.endswith('.midi') or midi_file.endswith('.mid'):\n",
    "                    piano_roll = midi_to_piano_roll(os.path.join(composer_path, midi_file))\n",
    "                    if piano_roll is not None:\n",
    "                        labels.append(composer)\n",
    "                        piano_rolls.append(piano_roll)\n",
    "    return piano_rolls, labels"
   ]
  },
  {
   "cell_type": "code",
   "execution_count": 4,
   "id": "00587e97-2c80-431d-be3c-ba2b81e891b8",
   "metadata": {
    "tags": []
   },
   "outputs": [],
   "source": [
    "train_data, train_labels = load_data_from_folder('/Users/fedijay/Desktop/USD/AAI_511_02_SUM23_NeuralNetworks_and_DeepLearning/FP_AAI_511_NNL_SUM2_Team3/Composer_Dataset2/NN_midi_files_extended/train')\n",
    "dev_data, dev_labels = load_data_from_folder('/Users/fedijay/Desktop/USD/AAI_511_02_SUM23_NeuralNetworks_and_DeepLearning/FP_AAI_511_NNL_SUM2_Team3/Composer_Dataset2/NN_midi_files_extended/dev')\n",
    "test_data, test_labels = load_data_from_folder('/Users/fedijay/Desktop/USD/AAI_511_02_SUM23_NeuralNetworks_and_DeepLearning/FP_AAI_511_NNL_SUM2_Team3/Composer_Dataset2/NN_midi_files_extended/test')"
   ]
  },
  {
   "cell_type": "code",
   "execution_count": 5,
   "id": "8f13d5d6-1333-4dd7-850e-77477e7c632a",
   "metadata": {
    "tags": []
   },
   "outputs": [],
   "source": [
    "# Encoding labels\n",
    "label_encoder = LabelEncoder()\n",
    "y_train = label_encoder.fit_transform(train_labels)\n",
    "y_train = to_categorical(y_train)\n",
    "\n",
    "y_dev = label_encoder.transform(dev_labels)\n",
    "y_dev = to_categorical(y_dev)\n",
    "\n",
    "y_test = label_encoder.transform(test_labels)\n",
    "y_test = to_categorical(y_test)"
   ]
  },
  {
   "cell_type": "code",
   "execution_count": 6,
   "id": "a8d2afaa-6499-4d02-b4ee-2cd68150a820",
   "metadata": {
    "tags": []
   },
   "outputs": [
    {
     "name": "stdout",
     "output_type": "stream",
     "text": [
      "(128, 14016)\n"
     ]
    }
   ],
   "source": [
    "sample_shape = train_data[0].shape\n",
    "print(sample_shape)"
   ]
  },
  {
   "cell_type": "code",
   "execution_count": 7,
   "id": "5b893156-eb93-439f-beff-eaabdced426c",
   "metadata": {
    "tags": []
   },
   "outputs": [
    {
     "name": "stdout",
     "output_type": "stream",
     "text": [
      "(128, 8764)\n"
     ]
    }
   ],
   "source": [
    "sample_shape = dev_data[0].shape\n",
    "print(sample_shape)"
   ]
  },
  {
   "cell_type": "code",
   "execution_count": 8,
   "id": "d94f9c9f-217e-446b-8fd9-4b65486fbe08",
   "metadata": {
    "tags": []
   },
   "outputs": [
    {
     "name": "stdout",
     "output_type": "stream",
     "text": [
      "(128, 10580)\n"
     ]
    }
   ],
   "source": [
    "sample_shape = test_data[0].shape\n",
    "print(sample_shape)"
   ]
  },
  {
   "cell_type": "code",
   "execution_count": 9,
   "id": "cd2e0aec-dd53-42a1-a8fb-101745cec119",
   "metadata": {
    "tags": []
   },
   "outputs": [],
   "source": [
    "fixed_length = 10627  # Chosen based on the 75th percentile\n",
    "\n",
    "# Function to limit sequences to a fixed length\n",
    "def limit_sequence_length(data, fixed_length):\n",
    "    limited_data = []\n",
    "    for sample in data:\n",
    "        if sample.shape[1] > fixed_length:\n",
    "            limited_sample = sample[:, :fixed_length]\n",
    "        else:\n",
    "            limited_sample = np.pad(sample, ((0, 0), (0, fixed_length - sample.shape[1])), mode='constant', constant_values=0)\n",
    "        limited_data.append(limited_sample)\n",
    "    return np.array(limited_data)\n",
    "\n",
    "# Adjust all datasets\n",
    "X_train = limit_sequence_length(train_data, fixed_length).reshape(-1, 128, fixed_length, 1)\n",
    "X_dev = limit_sequence_length(dev_data, fixed_length).reshape(-1, 128, fixed_length, 1)\n",
    "X_test = limit_sequence_length(test_data, fixed_length).reshape(-1, 128, fixed_length, 1)"
   ]
  },
  {
   "cell_type": "code",
   "execution_count": 10,
   "id": "9ead0615-bb2e-4e0d-af7c-93d385227660",
   "metadata": {
    "tags": []
   },
   "outputs": [
    {
     "name": "stdout",
     "output_type": "stream",
     "text": [
      "Epoch 1/10\n",
      "12/12 [==============================] - 240s 20s/step - loss: 1494.0325 - accuracy: 0.1978 - val_loss: 158.5065 - val_accuracy: 0.2857\n",
      "Epoch 2/10\n",
      "12/12 [==============================] - 234s 20s/step - loss: 48.1691 - accuracy: 0.4011 - val_loss: 16.9934 - val_accuracy: 0.2571\n",
      "Epoch 3/10\n",
      "12/12 [==============================] - 234s 20s/step - loss: 6.2980 - accuracy: 0.5420 - val_loss: 6.8858 - val_accuracy: 0.2857\n",
      "Epoch 4/10\n",
      "12/12 [==============================] - 234s 19s/step - loss: 1.0899 - accuracy: 0.7561 - val_loss: 2.8727 - val_accuracy: 0.2857\n",
      "Epoch 5/10\n",
      "12/12 [==============================] - 235s 20s/step - loss: 0.3329 - accuracy: 0.9241 - val_loss: 3.3551 - val_accuracy: 0.3143\n",
      "Epoch 6/10\n",
      "12/12 [==============================] - 234s 19s/step - loss: 0.1852 - accuracy: 0.9458 - val_loss: 3.3819 - val_accuracy: 0.2857\n",
      "Epoch 7/10\n",
      "12/12 [==============================] - 234s 20s/step - loss: 0.0936 - accuracy: 0.9729 - val_loss: 3.6198 - val_accuracy: 0.2857\n",
      "Epoch 8/10\n",
      "12/12 [==============================] - 234s 19s/step - loss: 0.0320 - accuracy: 1.0000 - val_loss: 4.1223 - val_accuracy: 0.2857\n",
      "Epoch 9/10\n",
      "12/12 [==============================] - 233s 19s/step - loss: 0.0102 - accuracy: 1.0000 - val_loss: 4.3613 - val_accuracy: 0.3429\n",
      "Epoch 10/10\n",
      "12/12 [==============================] - 234s 19s/step - loss: 0.0045 - accuracy: 1.0000 - val_loss: 4.6301 - val_accuracy: 0.3714\n"
     ]
    },
    {
     "data": {
      "text/plain": [
       "<keras.src.callbacks.History at 0x7fdc987327a0>"
      ]
     },
     "execution_count": 10,
     "metadata": {},
     "output_type": "execute_result"
    }
   ],
   "source": [
    "number_of_classes = y_train.shape[1]\n",
    "\n",
    "# Define the CNN model\n",
    "model = Sequential()\n",
    "model.add(Conv2D(32, kernel_size=(3, 3), activation='relu', input_shape=(128, 10627, 1)))\n",
    "model.add(MaxPooling2D(pool_size=(2, 2)))\n",
    "model.add(Conv2D(64, kernel_size=(3, 3), activation='relu'))\n",
    "model.add(MaxPooling2D(pool_size=(2, 2)))\n",
    "model.add(Flatten())\n",
    "model.add(Dense(128, activation='relu'))\n",
    "model.add(Dense(number_of_classes, activation='softmax'))\n",
    "\n",
    "model.compile(optimizer='adam', loss='categorical_crossentropy', metrics=['accuracy'])\n",
    "\n",
    "# Train the model\n",
    "model.fit(X_train, y_train, validation_data=(X_dev, y_dev), epochs=10, batch_size=32)"
   ]
  },
  {
   "cell_type": "code",
   "execution_count": 11,
   "id": "18d8a1ee-01b5-4217-b6db-a38c2bb39332",
   "metadata": {
    "tags": []
   },
   "outputs": [],
   "source": [
    "import pandas as pd\n",
    "from tensorflow.keras.layers import Dense, Conv2D, MaxPooling2D, Flatten"
   ]
  },
  {
   "cell_type": "code",
   "execution_count": 12,
   "id": "f8f56273-60f5-4e52-883a-3a2ff4dc0a9b",
   "metadata": {
    "tags": []
   },
   "outputs": [],
   "source": [
    "# Load CSV data\n",
    "train_df = pd.read_csv('/Users/fedijay/Desktop/USD/AAI_511_02_SUM23_NeuralNetworks_and_DeepLearning/FP_AAI_511_NNL_SUM2_Team3/csv_file/midi_train_processed.csv')\n",
    "dev_df = pd.read_csv('/Users/fedijay/Desktop/USD/AAI_511_02_SUM23_NeuralNetworks_and_DeepLearning/FP_AAI_511_NNL_SUM2_Team3/csv_file/midi_val_processed.csv')\n",
    "test_df = pd.read_csv('/Users/fedijay/Desktop/USD/AAI_511_02_SUM23_NeuralNetworks_and_DeepLearning/FP_AAI_511_NNL_SUM2_Team3/csv_file/midi_test_processed.csv')"
   ]
  },
  {
   "cell_type": "code",
   "execution_count": 13,
   "id": "ca52597a-11aa-4575-9187-c69440cd53a2",
   "metadata": {
    "tags": []
   },
   "outputs": [],
   "source": [
    "timesteps = 128\n",
    "features_per_timestep = X_train.shape[1] // timesteps"
   ]
  },
  {
   "cell_type": "code",
   "execution_count": 14,
   "id": "50ac688e-4264-450b-8129-87843da8c495",
   "metadata": {
    "tags": []
   },
   "outputs": [
    {
     "name": "stdout",
     "output_type": "stream",
     "text": [
      "1\n"
     ]
    }
   ],
   "source": [
    "num_sequences = X_train.shape[1] // timesteps\n",
    "print(num_sequences)"
   ]
  },
  {
   "cell_type": "code",
   "execution_count": 15,
   "id": "8608fefb-6b76-4ee5-99a6-10fadcc3c562",
   "metadata": {
    "tags": []
   },
   "outputs": [
    {
     "name": "stdout",
     "output_type": "stream",
     "text": [
      "128\n"
     ]
    }
   ],
   "source": [
    "features_per_timestep = X_train.shape[1] // num_sequences\n",
    "print(features_per_timestep)"
   ]
  },
  {
   "cell_type": "code",
   "execution_count": 16,
   "id": "fc4f2881-d97d-43d6-aa52-4cd5046010df",
   "metadata": {
    "tags": []
   },
   "outputs": [],
   "source": [
    "# Extract features and labels\n",
    "X_train = train_df.iloc[:, :-1].values\n",
    "y_train = train_df.iloc[:, -1].values\n",
    "X_dev = dev_df.iloc[:, :-1].values\n",
    "y_dev = dev_df.iloc[:, -1].values\n",
    "X_test = test_df.iloc[:, :-1].values\n",
    "y_test = test_df.iloc[:, -1].values\n",
    "\n",
    "# Define fixed values based on the provided info\n",
    "timesteps = 128\n",
    "num_sequences = 117\n",
    "features_per_timestep = 128\n",
    "\n",
    "# Pad or truncate sequences to a fixed length\n",
    "def pad_or_truncate(data, fixed_length):\n",
    "    padded_data = []\n",
    "    for sample in data:\n",
    "        if len(sample) < fixed_length:\n",
    "            padded_data.append(np.pad(sample, (0, fixed_length - len(sample)), 'constant'))\n",
    "        else:\n",
    "            padded_data.append(sample[:fixed_length])\n",
    "    return np.array(padded_data)\n",
    "\n",
    "# Adjusting the X_train, X_dev and X_test to match the expected length\n",
    "expected_length = timesteps * features_per_timestep\n",
    "X_train = pad_or_truncate(X_train, expected_length)\n",
    "X_dev = pad_or_truncate(X_dev, expected_length)\n",
    "X_test = pad_or_truncate(X_test, expected_length)\n",
    "\n",
    "# Reshape data for CNN\n",
    "X_train = X_train.reshape(-1, timesteps, features_per_timestep, 1)\n",
    "X_dev = X_dev.reshape(-1, timesteps, features_per_timestep, 1)\n",
    "X_test = X_test.reshape(-1, timesteps, features_per_timestep, 1)\n",
    "\n",
    "# Encode labels\n",
    "label_encoder = LabelEncoder()\n",
    "y_train_encoded = label_encoder.fit_transform(y_train)\n",
    "y_dev_encoded = label_encoder.transform(y_dev)\n",
    "y_test_encoded = label_encoder.transform(y_test)\n",
    "\n",
    "y_train_categorical = to_categorical(y_train_encoded)\n",
    "y_dev_categorical = to_categorical(y_dev_encoded)\n",
    "y_test_categorical = to_categorical(y_test_encoded)"
   ]
  },
  {
   "cell_type": "code",
   "execution_count": 17,
   "id": "2bdca2cd-90aa-47fb-b73d-4006ea65a342",
   "metadata": {
    "tags": []
   },
   "outputs": [
    {
     "name": "stdout",
     "output_type": "stream",
     "text": [
      "Epoch 1/100\n",
      "12/12 [==============================] - 4s 285ms/step - loss: 12.1632 - accuracy: 0.0941 - val_loss: 22.6470 - val_accuracy: 0.0857\n",
      "Epoch 2/100\n",
      "12/12 [==============================] - 3s 253ms/step - loss: 2.1849 - accuracy: 0.2285 - val_loss: 23.1417 - val_accuracy: 0.0857\n",
      "Epoch 3/100\n",
      "12/12 [==============================] - 3s 253ms/step - loss: 1.7942 - accuracy: 0.3118 - val_loss: 17.6713 - val_accuracy: 0.0857\n",
      "Epoch 4/100\n",
      "12/12 [==============================] - 3s 252ms/step - loss: 1.5137 - accuracy: 0.4409 - val_loss: 9.7365 - val_accuracy: 0.0857\n",
      "Epoch 5/100\n",
      "12/12 [==============================] - 3s 250ms/step - loss: 1.4469 - accuracy: 0.4704 - val_loss: 6.3651 - val_accuracy: 0.0857\n",
      "Epoch 6/100\n",
      "12/12 [==============================] - 3s 253ms/step - loss: 1.0202 - accuracy: 0.6183 - val_loss: 5.3543 - val_accuracy: 0.0857\n",
      "Epoch 7/100\n",
      "12/12 [==============================] - 3s 254ms/step - loss: 0.8525 - accuracy: 0.7043 - val_loss: 3.5473 - val_accuracy: 0.0857\n",
      "Epoch 8/100\n",
      "12/12 [==============================] - 3s 263ms/step - loss: 0.7820 - accuracy: 0.6935 - val_loss: 5.4066 - val_accuracy: 0.0857\n",
      "Epoch 9/100\n",
      "12/12 [==============================] - 3s 253ms/step - loss: 0.6368 - accuracy: 0.7769 - val_loss: 2.8403 - val_accuracy: 0.0857\n",
      "Epoch 10/100\n",
      "12/12 [==============================] - 3s 256ms/step - loss: 0.5692 - accuracy: 0.7581 - val_loss: 2.5011 - val_accuracy: 0.1714\n",
      "Epoch 11/100\n",
      "12/12 [==============================] - 3s 271ms/step - loss: 0.5131 - accuracy: 0.8065 - val_loss: 2.2453 - val_accuracy: 0.1714\n",
      "Epoch 12/100\n",
      "12/12 [==============================] - 3s 267ms/step - loss: 0.4246 - accuracy: 0.8360 - val_loss: 3.1723 - val_accuracy: 0.1429\n",
      "Epoch 13/100\n",
      "12/12 [==============================] - 3s 274ms/step - loss: 0.3459 - accuracy: 0.8737 - val_loss: 2.1736 - val_accuracy: 0.1143\n",
      "Epoch 14/100\n",
      "12/12 [==============================] - 3s 270ms/step - loss: 0.4846 - accuracy: 0.8280 - val_loss: 3.1735 - val_accuracy: 0.1429\n",
      "Epoch 15/100\n",
      "12/12 [==============================] - 3s 257ms/step - loss: 0.2816 - accuracy: 0.8952 - val_loss: 4.9268 - val_accuracy: 0.1143\n",
      "Epoch 16/100\n",
      "12/12 [==============================] - 3s 255ms/step - loss: 0.2253 - accuracy: 0.9194 - val_loss: 8.6475 - val_accuracy: 0.1143\n",
      "Epoch 17/100\n",
      "12/12 [==============================] - 3s 272ms/step - loss: 0.2292 - accuracy: 0.9113 - val_loss: 7.8317 - val_accuracy: 0.1143\n",
      "Epoch 18/100\n",
      "12/12 [==============================] - 3s 254ms/step - loss: 0.3787 - accuracy: 0.8737 - val_loss: 2.4431 - val_accuracy: 0.2571\n",
      "Epoch 19/100\n",
      "12/12 [==============================] - 3s 254ms/step - loss: 0.1493 - accuracy: 0.9570 - val_loss: 7.6097 - val_accuracy: 0.1143\n",
      "Epoch 20/100\n",
      "12/12 [==============================] - 3s 256ms/step - loss: 0.1168 - accuracy: 0.9677 - val_loss: 4.5705 - val_accuracy: 0.2000\n",
      "Epoch 21/100\n",
      "12/12 [==============================] - 3s 267ms/step - loss: 0.1953 - accuracy: 0.9409 - val_loss: 9.0733 - val_accuracy: 0.1143\n",
      "Epoch 22/100\n",
      "12/12 [==============================] - 3s 256ms/step - loss: 0.1673 - accuracy: 0.9516 - val_loss: 11.2243 - val_accuracy: 0.1143\n",
      "Epoch 23/100\n",
      "12/12 [==============================] - 3s 256ms/step - loss: 0.1628 - accuracy: 0.9409 - val_loss: 9.9337 - val_accuracy: 0.1143\n"
     ]
    },
    {
     "data": {
      "text/plain": [
       "<keras.src.callbacks.History at 0x7fdc88527100>"
      ]
     },
     "execution_count": 17,
     "metadata": {},
     "output_type": "execute_result"
    }
   ],
   "source": [
    "from tensorflow.keras.optimizers import RMSprop\n",
    "from keras.layers import Dropout, BatchNormalization\n",
    "from keras.callbacks import EarlyStopping\n",
    "\n",
    "model = Sequential()\n",
    "\n",
    "# First Convolutional Layer\n",
    "model.add(Conv2D(32, kernel_size=(3, 3), activation='relu', input_shape=(128, 128, 1)))\n",
    "model.add(BatchNormalization())\n",
    "model.add(MaxPooling2D(pool_size=(2, 2)))\n",
    "\n",
    "# Second Convolutional Layer\n",
    "model.add(Conv2D(64, kernel_size=(3, 3), activation='relu'))\n",
    "model.add(BatchNormalization())\n",
    "model.add(MaxPooling2D(pool_size=(2, 2)))\n",
    "\n",
    "# Flatten and Fully Connected Layers-\n",
    "model.add(Flatten())\n",
    "model.add(Dense(128, activation='relu'))\n",
    "model.add(Dense(y_train_categorical.shape[1], activation='softmax'))\n",
    "\n",
    "# Use RMSprop optimizer as an alternative\n",
    "optimizer = RMSprop(learning_rate=0.001)\n",
    "model.compile(optimizer=optimizer, loss='categorical_crossentropy', metrics=['accuracy'])\n",
    "early_stopping = EarlyStopping(monitor='val_loss', patience=10, restore_best_weights=True)\n",
    "\n",
    "# Train the model\n",
    "model.fit(X_train, y_train_categorical, validation_data=(X_dev, y_dev_categorical), epochs=100, batch_size=32, callbacks=[early_stopping])"
   ]
  },
  {
   "cell_type": "code",
   "execution_count": 18,
   "id": "faf92292-99a2-4703-b424-a5931b581ca5",
   "metadata": {
    "tags": []
   },
   "outputs": [
    {
     "name": "stdout",
     "output_type": "stream",
     "text": [
      "Epoch 1/10\n",
      "12/12 [==============================] - 3s 193ms/step - loss: 2.4991 - accuracy: 0.1237 - val_loss: 2.1599 - val_accuracy: 0.1714\n",
      "Epoch 2/10\n",
      "12/12 [==============================] - 2s 182ms/step - loss: 2.1035 - accuracy: 0.2258 - val_loss: 2.2009 - val_accuracy: 0.1143\n",
      "Epoch 3/10\n",
      "12/12 [==============================] - 2s 182ms/step - loss: 1.9711 - accuracy: 0.2930 - val_loss: 2.2774 - val_accuracy: 0.0571\n",
      "Epoch 4/10\n",
      "12/12 [==============================] - 2s 183ms/step - loss: 1.7737 - accuracy: 0.3495 - val_loss: 2.2009 - val_accuracy: 0.0571\n",
      "Epoch 5/10\n",
      "12/12 [==============================] - 2s 201ms/step - loss: 1.5500 - accuracy: 0.4435 - val_loss: 2.3539 - val_accuracy: 0.0571\n",
      "Epoch 6/10\n",
      "12/12 [==============================] - 2s 180ms/step - loss: 1.3487 - accuracy: 0.4919 - val_loss: 2.3491 - val_accuracy: 0.0571\n",
      "Epoch 7/10\n",
      "12/12 [==============================] - 2s 181ms/step - loss: 1.1302 - accuracy: 0.5753 - val_loss: 2.5459 - val_accuracy: 0.0857\n",
      "Epoch 8/10\n",
      "12/12 [==============================] - 2s 181ms/step - loss: 0.9785 - accuracy: 0.6317 - val_loss: 2.5540 - val_accuracy: 0.0286\n",
      "Epoch 9/10\n",
      "12/12 [==============================] - 2s 187ms/step - loss: 0.8610 - accuracy: 0.6855 - val_loss: 2.7744 - val_accuracy: 0.0857\n",
      "Epoch 10/10\n",
      "12/12 [==============================] - 2s 181ms/step - loss: 0.7621 - accuracy: 0.7231 - val_loss: 2.8915 - val_accuracy: 0.0857\n"
     ]
    },
    {
     "data": {
      "text/plain": [
       "<keras.src.callbacks.History at 0x7fdc88ca4520>"
      ]
     },
     "execution_count": 18,
     "metadata": {},
     "output_type": "execute_result"
    }
   ],
   "source": [
    "# Define the CNN model\n",
    "model = Sequential()\n",
    "model.add(Conv2D(32, kernel_size=(3, 3), activation='relu', input_shape=(timesteps, features_per_timestep, 1)))\n",
    "model.add(MaxPooling2D(pool_size=(2, 2)))\n",
    "model.add(Conv2D(64, kernel_size=(3, 3), activation='relu'))\n",
    "model.add(MaxPooling2D(pool_size=(2, 2)))\n",
    "model.add(Flatten())\n",
    "model.add(Dense(128, activation='relu'))\n",
    "model.add(Dense(y_train_categorical.shape[1], activation='softmax'))\n",
    "\n",
    "model.compile(optimizer='adam', loss='categorical_crossentropy', metrics=['accuracy'])\n",
    "\n",
    "# Train the model\n",
    "model.fit(X_train, y_train_categorical, validation_data=(X_dev, y_dev_categorical), epochs=10, batch_size=32)"
   ]
  },
  {
   "cell_type": "code",
   "execution_count": 19,
   "id": "5e9235fa-cfa3-4324-8076-ce8170dd38e8",
   "metadata": {
    "tags": []
   },
   "outputs": [
    {
     "name": "stdout",
     "output_type": "stream",
     "text": [
      "Epoch 1/100\n",
      "12/12 [==============================] - 2s 182ms/step - loss: 0.7003 - accuracy: 0.7473 - val_loss: 3.2893 - val_accuracy: 0.0857\n",
      "Epoch 2/100\n",
      "12/12 [==============================] - 2s 181ms/step - loss: 0.6686 - accuracy: 0.7312 - val_loss: 3.5099 - val_accuracy: 0.1143\n",
      "Epoch 3/100\n",
      "12/12 [==============================] - 2s 179ms/step - loss: 0.5886 - accuracy: 0.8091 - val_loss: 3.8962 - val_accuracy: 0.0857\n",
      "Epoch 4/100\n",
      "12/12 [==============================] - 2s 196ms/step - loss: 0.5745 - accuracy: 0.7796 - val_loss: 4.0184 - val_accuracy: 0.1429\n",
      "Epoch 5/100\n",
      "12/12 [==============================] - 2s 182ms/step - loss: 0.5414 - accuracy: 0.7823 - val_loss: 4.0146 - val_accuracy: 0.1143\n",
      "Epoch 6/100\n",
      "12/12 [==============================] - 2s 179ms/step - loss: 0.4644 - accuracy: 0.8387 - val_loss: 4.8564 - val_accuracy: 0.1143\n"
     ]
    },
    {
     "data": {
      "text/plain": [
       "<keras.src.callbacks.History at 0x7fdc7f6cb6d0>"
      ]
     },
     "execution_count": 19,
     "metadata": {},
     "output_type": "execute_result"
    }
   ],
   "source": [
    "early_stopping = EarlyStopping(monitor='val_loss', patience=5)\n",
    "model.fit(X_train, y_train_categorical, validation_data=(X_dev, y_dev_categorical), epochs=100, batch_size=32, callbacks=[early_stopping])"
   ]
  },
  {
   "cell_type": "code",
   "execution_count": 20,
   "id": "988a977b-4a90-49a3-8181-9c8c4ee81f61",
   "metadata": {
    "tags": []
   },
   "outputs": [],
   "source": [
    "from keras.callbacks import ModelCheckpoint\n",
    "\n",
    "checkpoint = ModelCheckpoint('best_weights.h5', save_best_only=True, monitor='val_loss', mode='min')"
   ]
  },
  {
   "cell_type": "code",
   "execution_count": 21,
   "id": "30229d58-ee40-461d-a8f3-78664484c4fb",
   "metadata": {},
   "outputs": [
    {
     "name": "stdout",
     "output_type": "stream",
     "text": [
      "Epoch 1/100\n",
      "12/12 [==============================] - 2s 182ms/step - loss: 0.4240 - accuracy: 0.8441 - val_loss: 5.0310 - val_accuracy: 0.1714\n",
      "Epoch 2/100\n",
      "12/12 [==============================] - 2s 181ms/step - loss: 0.4258 - accuracy: 0.8387 - val_loss: 5.4039 - val_accuracy: 0.0857\n",
      "Epoch 3/100\n",
      "12/12 [==============================] - 2s 197ms/step - loss: 0.5043 - accuracy: 0.8226 - val_loss: 5.7253 - val_accuracy: 0.1143\n",
      "Epoch 4/100\n",
      "12/12 [==============================] - 2s 181ms/step - loss: 0.4866 - accuracy: 0.8118 - val_loss: 5.9873 - val_accuracy: 0.0857\n",
      "Epoch 5/100\n",
      "12/12 [==============================] - 2s 180ms/step - loss: 0.4122 - accuracy: 0.8522 - val_loss: 6.1570 - val_accuracy: 0.1714\n",
      "Epoch 6/100\n",
      "12/12 [==============================] - 2s 181ms/step - loss: 0.3591 - accuracy: 0.9005 - val_loss: 6.3307 - val_accuracy: 0.0857\n",
      "Epoch 1/100\n",
      "12/12 [==============================] - 2s 185ms/step - loss: 0.3314 - accuracy: 0.8602 - val_loss: 6.4573 - val_accuracy: 0.1143\n",
      "Epoch 2/100\n",
      "12/12 [==============================] - 2s 181ms/step - loss: 0.2859 - accuracy: 0.9032 - val_loss: 6.6209 - val_accuracy: 0.1143\n",
      "Epoch 3/100\n",
      "12/12 [==============================] - 2s 184ms/step - loss: 0.2691 - accuracy: 0.9059 - val_loss: 6.9219 - val_accuracy: 0.1143\n",
      "Epoch 4/100\n",
      "12/12 [==============================] - 2s 202ms/step - loss: 0.2109 - accuracy: 0.9462 - val_loss: 7.3768 - val_accuracy: 0.1429\n",
      "Epoch 5/100\n",
      "12/12 [==============================] - 2s 195ms/step - loss: 0.2042 - accuracy: 0.9516 - val_loss: 7.4471 - val_accuracy: 0.1429\n",
      "Epoch 6/100\n",
      "12/12 [==============================] - 2s 181ms/step - loss: 0.1758 - accuracy: 0.9489 - val_loss: 7.8314 - val_accuracy: 0.1143\n",
      "Epoch 7/100\n",
      "12/12 [==============================] - 2s 184ms/step - loss: 0.1816 - accuracy: 0.9570 - val_loss: 8.3372 - val_accuracy: 0.1714\n",
      "Epoch 8/100\n",
      "12/12 [==============================] - 2s 182ms/step - loss: 0.1731 - accuracy: 0.9624 - val_loss: 8.9566 - val_accuracy: 0.1429\n",
      "Epoch 9/100\n",
      "12/12 [==============================] - 2s 183ms/step - loss: 0.1513 - accuracy: 0.9651 - val_loss: 9.0468 - val_accuracy: 0.1429\n",
      "Epoch 10/100\n",
      "12/12 [==============================] - 2s 181ms/step - loss: 0.1341 - accuracy: 0.9677 - val_loss: 9.6506 - val_accuracy: 0.1429\n",
      "Epoch 11/100\n",
      "12/12 [==============================] - 2s 181ms/step - loss: 0.1175 - accuracy: 0.9785 - val_loss: 9.5387 - val_accuracy: 0.1429\n",
      "Epoch 12/100\n",
      "12/12 [==============================] - 2s 182ms/step - loss: 0.1156 - accuracy: 0.9919 - val_loss: 9.9197 - val_accuracy: 0.1429\n",
      "Epoch 13/100\n",
      "12/12 [==============================] - 2s 181ms/step - loss: 0.1280 - accuracy: 0.9677 - val_loss: 10.9222 - val_accuracy: 0.1714\n",
      "Epoch 14/100\n",
      "12/12 [==============================] - 2s 199ms/step - loss: 0.1211 - accuracy: 0.9785 - val_loss: 10.3312 - val_accuracy: 0.1429\n",
      "Epoch 15/100\n",
      "12/12 [==============================] - 2s 181ms/step - loss: 0.0995 - accuracy: 0.9839 - val_loss: 10.4691 - val_accuracy: 0.1714\n",
      "Epoch 16/100\n",
      "12/12 [==============================] - 2s 182ms/step - loss: 0.0852 - accuracy: 0.9892 - val_loss: 10.6766 - val_accuracy: 0.1429\n",
      "Epoch 17/100\n",
      "12/12 [==============================] - 2s 181ms/step - loss: 0.0694 - accuracy: 0.9919 - val_loss: 11.0232 - val_accuracy: 0.1429\n",
      "Epoch 18/100\n",
      "12/12 [==============================] - 2s 193ms/step - loss: 0.0661 - accuracy: 0.9946 - val_loss: 11.2644 - val_accuracy: 0.1714\n",
      "Epoch 19/100\n",
      "12/12 [==============================] - 2s 191ms/step - loss: 0.0475 - accuracy: 1.0000 - val_loss: 11.3636 - val_accuracy: 0.1429\n",
      "Epoch 20/100\n",
      "12/12 [==============================] - 2s 181ms/step - loss: 0.0385 - accuracy: 1.0000 - val_loss: 11.7660 - val_accuracy: 0.1429\n",
      "Epoch 21/100\n",
      "12/12 [==============================] - 2s 182ms/step - loss: 0.0344 - accuracy: 1.0000 - val_loss: 11.8563 - val_accuracy: 0.1429\n",
      "Epoch 22/100\n",
      "12/12 [==============================] - 2s 181ms/step - loss: 0.0286 - accuracy: 1.0000 - val_loss: 12.3614 - val_accuracy: 0.1429\n",
      "Epoch 23/100\n",
      "12/12 [==============================] - 2s 183ms/step - loss: 0.0263 - accuracy: 1.0000 - val_loss: 12.3633 - val_accuracy: 0.1429\n",
      "Epoch 24/100\n",
      "12/12 [==============================] - 2s 182ms/step - loss: 0.0245 - accuracy: 1.0000 - val_loss: 12.5861 - val_accuracy: 0.1429\n",
      "Epoch 25/100\n",
      "12/12 [==============================] - 2s 181ms/step - loss: 0.0229 - accuracy: 1.0000 - val_loss: 12.6516 - val_accuracy: 0.1429\n",
      "Epoch 26/100\n",
      "12/12 [==============================] - 2s 182ms/step - loss: 0.0206 - accuracy: 1.0000 - val_loss: 12.9778 - val_accuracy: 0.1429\n",
      "Epoch 27/100\n",
      "12/12 [==============================] - 2s 182ms/step - loss: 0.0192 - accuracy: 1.0000 - val_loss: 12.9140 - val_accuracy: 0.1429\n",
      "Epoch 28/100\n",
      "12/12 [==============================] - 2s 197ms/step - loss: 0.0177 - accuracy: 1.0000 - val_loss: 13.3823 - val_accuracy: 0.1429\n",
      "Epoch 29/100\n",
      "12/12 [==============================] - 2s 181ms/step - loss: 0.0184 - accuracy: 1.0000 - val_loss: 13.2521 - val_accuracy: 0.1429\n",
      "Epoch 30/100\n",
      "12/12 [==============================] - 2s 182ms/step - loss: 0.0168 - accuracy: 1.0000 - val_loss: 13.4219 - val_accuracy: 0.1429\n",
      "Epoch 31/100\n",
      "12/12 [==============================] - 2s 181ms/step - loss: 0.0153 - accuracy: 1.0000 - val_loss: 13.5555 - val_accuracy: 0.1429\n",
      "Epoch 32/100\n",
      "12/12 [==============================] - 2s 197ms/step - loss: 0.0152 - accuracy: 1.0000 - val_loss: 13.7779 - val_accuracy: 0.1429\n",
      "Epoch 33/100\n",
      "12/12 [==============================] - 2s 180ms/step - loss: 0.0147 - accuracy: 1.0000 - val_loss: 13.7736 - val_accuracy: 0.1429\n",
      "Epoch 34/100\n",
      "12/12 [==============================] - 2s 182ms/step - loss: 0.0131 - accuracy: 1.0000 - val_loss: 13.8744 - val_accuracy: 0.1429\n",
      "Epoch 35/100\n",
      "12/12 [==============================] - 2s 181ms/step - loss: 0.0125 - accuracy: 1.0000 - val_loss: 14.2006 - val_accuracy: 0.1429\n",
      "Epoch 36/100\n",
      "12/12 [==============================] - 2s 180ms/step - loss: 0.0122 - accuracy: 1.0000 - val_loss: 14.1269 - val_accuracy: 0.1429\n",
      "Epoch 37/100\n",
      "12/12 [==============================] - 2s 181ms/step - loss: 0.0112 - accuracy: 1.0000 - val_loss: 14.2006 - val_accuracy: 0.1429\n",
      "Epoch 38/100\n",
      "12/12 [==============================] - 2s 183ms/step - loss: 0.0118 - accuracy: 1.0000 - val_loss: 14.4618 - val_accuracy: 0.1429\n",
      "Epoch 39/100\n",
      "12/12 [==============================] - 2s 182ms/step - loss: 0.0105 - accuracy: 1.0000 - val_loss: 14.6173 - val_accuracy: 0.1429\n",
      "Epoch 40/100\n",
      "12/12 [==============================] - 2s 200ms/step - loss: 0.0097 - accuracy: 1.0000 - val_loss: 14.4651 - val_accuracy: 0.1429\n",
      "Epoch 41/100\n",
      "12/12 [==============================] - 2s 190ms/step - loss: 0.0098 - accuracy: 1.0000 - val_loss: 14.8703 - val_accuracy: 0.1429\n",
      "Epoch 42/100\n",
      "12/12 [==============================] - 2s 185ms/step - loss: 0.0085 - accuracy: 1.0000 - val_loss: 14.8555 - val_accuracy: 0.1429\n",
      "Epoch 43/100\n",
      "12/12 [==============================] - 2s 183ms/step - loss: 0.0078 - accuracy: 1.0000 - val_loss: 15.0242 - val_accuracy: 0.1429\n",
      "Epoch 44/100\n",
      "12/12 [==============================] - 2s 182ms/step - loss: 0.0074 - accuracy: 1.0000 - val_loss: 15.1032 - val_accuracy: 0.1429\n",
      "Epoch 45/100\n",
      "12/12 [==============================] - 2s 182ms/step - loss: 0.0073 - accuracy: 1.0000 - val_loss: 15.2070 - val_accuracy: 0.1429\n",
      "Epoch 46/100\n",
      "12/12 [==============================] - 2s 185ms/step - loss: 0.0071 - accuracy: 1.0000 - val_loss: 15.2803 - val_accuracy: 0.1429\n",
      "Epoch 47/100\n",
      "12/12 [==============================] - 2s 202ms/step - loss: 0.0066 - accuracy: 1.0000 - val_loss: 15.4377 - val_accuracy: 0.1429\n",
      "Epoch 48/100\n",
      "12/12 [==============================] - 2s 201ms/step - loss: 0.0063 - accuracy: 1.0000 - val_loss: 15.5692 - val_accuracy: 0.1429\n",
      "Epoch 49/100\n",
      "12/12 [==============================] - 2s 203ms/step - loss: 0.0060 - accuracy: 1.0000 - val_loss: 15.6097 - val_accuracy: 0.1429\n",
      "Epoch 50/100\n",
      "12/12 [==============================] - 2s 186ms/step - loss: 0.0058 - accuracy: 1.0000 - val_loss: 15.7248 - val_accuracy: 0.1429\n",
      "Epoch 51/100\n",
      "12/12 [==============================] - 2s 185ms/step - loss: 0.0056 - accuracy: 1.0000 - val_loss: 16.0288 - val_accuracy: 0.1429\n",
      "Epoch 52/100\n",
      "12/12 [==============================] - 2s 189ms/step - loss: 0.0057 - accuracy: 1.0000 - val_loss: 15.9598 - val_accuracy: 0.1429\n",
      "Epoch 53/100\n",
      "12/12 [==============================] - 3s 224ms/step - loss: 0.0054 - accuracy: 1.0000 - val_loss: 16.0620 - val_accuracy: 0.1429\n",
      "Epoch 54/100\n",
      "12/12 [==============================] - 2s 185ms/step - loss: 0.0052 - accuracy: 1.0000 - val_loss: 16.2665 - val_accuracy: 0.1429\n",
      "Epoch 55/100\n",
      "12/12 [==============================] - 2s 182ms/step - loss: 0.0050 - accuracy: 1.0000 - val_loss: 16.0543 - val_accuracy: 0.1429\n",
      "Epoch 56/100\n",
      "12/12 [==============================] - 2s 183ms/step - loss: 0.0051 - accuracy: 1.0000 - val_loss: 16.5039 - val_accuracy: 0.1429\n",
      "Epoch 57/100\n",
      "12/12 [==============================] - 2s 196ms/step - loss: 0.0046 - accuracy: 1.0000 - val_loss: 16.3565 - val_accuracy: 0.1429\n",
      "Epoch 58/100\n",
      "12/12 [==============================] - 2s 193ms/step - loss: 0.0042 - accuracy: 1.0000 - val_loss: 16.6583 - val_accuracy: 0.1429\n",
      "Epoch 59/100\n",
      "12/12 [==============================] - 2s 205ms/step - loss: 0.0041 - accuracy: 1.0000 - val_loss: 16.6741 - val_accuracy: 0.1429\n",
      "Epoch 60/100\n",
      "12/12 [==============================] - 2s 186ms/step - loss: 0.0039 - accuracy: 1.0000 - val_loss: 16.8896 - val_accuracy: 0.1429\n",
      "Epoch 61/100\n",
      "12/12 [==============================] - 2s 190ms/step - loss: 0.0038 - accuracy: 1.0000 - val_loss: 16.8959 - val_accuracy: 0.1429\n",
      "Epoch 62/100\n",
      "12/12 [==============================] - 2s 188ms/step - loss: 0.0039 - accuracy: 1.0000 - val_loss: 17.1880 - val_accuracy: 0.1429\n",
      "Epoch 63/100\n",
      "12/12 [==============================] - 2s 194ms/step - loss: 0.0039 - accuracy: 1.0000 - val_loss: 16.9382 - val_accuracy: 0.1429\n",
      "Epoch 64/100\n",
      "12/12 [==============================] - 2s 196ms/step - loss: 0.0036 - accuracy: 1.0000 - val_loss: 17.3966 - val_accuracy: 0.1429\n",
      "Epoch 65/100\n",
      "12/12 [==============================] - 2s 184ms/step - loss: 0.0033 - accuracy: 1.0000 - val_loss: 17.2620 - val_accuracy: 0.1429\n",
      "Epoch 66/100\n",
      "12/12 [==============================] - 2s 188ms/step - loss: 0.0032 - accuracy: 1.0000 - val_loss: 17.6483 - val_accuracy: 0.1429\n",
      "Epoch 67/100\n",
      "12/12 [==============================] - 2s 184ms/step - loss: 0.0032 - accuracy: 1.0000 - val_loss: 17.4816 - val_accuracy: 0.1429\n",
      "Epoch 68/100\n",
      "12/12 [==============================] - 2s 183ms/step - loss: 0.0030 - accuracy: 1.0000 - val_loss: 17.7248 - val_accuracy: 0.1429\n",
      "Epoch 69/100\n",
      "12/12 [==============================] - 2s 184ms/step - loss: 0.0029 - accuracy: 1.0000 - val_loss: 17.9141 - val_accuracy: 0.1429\n",
      "Epoch 70/100\n",
      "12/12 [==============================] - 2s 185ms/step - loss: 0.0029 - accuracy: 1.0000 - val_loss: 17.9127 - val_accuracy: 0.1429\n",
      "Epoch 71/100\n",
      "12/12 [==============================] - 2s 195ms/step - loss: 0.0029 - accuracy: 1.0000 - val_loss: 18.0034 - val_accuracy: 0.1429\n",
      "Epoch 72/100\n",
      "12/12 [==============================] - 2s 185ms/step - loss: 0.0027 - accuracy: 1.0000 - val_loss: 18.1311 - val_accuracy: 0.1429\n",
      "Epoch 73/100\n",
      "12/12 [==============================] - 2s 190ms/step - loss: 0.0026 - accuracy: 1.0000 - val_loss: 18.2668 - val_accuracy: 0.1429\n",
      "Epoch 74/100\n",
      "12/12 [==============================] - 2s 183ms/step - loss: 0.0025 - accuracy: 1.0000 - val_loss: 18.3942 - val_accuracy: 0.1429\n",
      "Epoch 75/100\n",
      "12/12 [==============================] - 2s 184ms/step - loss: 0.0024 - accuracy: 1.0000 - val_loss: 18.3874 - val_accuracy: 0.1429\n",
      "Epoch 76/100\n",
      "12/12 [==============================] - 2s 184ms/step - loss: 0.0024 - accuracy: 1.0000 - val_loss: 18.6466 - val_accuracy: 0.1429\n",
      "Epoch 77/100\n",
      "12/12 [==============================] - 2s 187ms/step - loss: 0.0023 - accuracy: 1.0000 - val_loss: 18.6914 - val_accuracy: 0.1429\n",
      "Epoch 78/100\n",
      "12/12 [==============================] - 2s 194ms/step - loss: 0.0023 - accuracy: 1.0000 - val_loss: 18.6945 - val_accuracy: 0.1429\n",
      "Epoch 79/100\n",
      "12/12 [==============================] - 2s 186ms/step - loss: 0.0022 - accuracy: 1.0000 - val_loss: 18.9771 - val_accuracy: 0.1429\n",
      "Epoch 80/100\n",
      "12/12 [==============================] - 2s 184ms/step - loss: 0.0021 - accuracy: 1.0000 - val_loss: 18.9036 - val_accuracy: 0.1429\n",
      "Epoch 81/100\n",
      "12/12 [==============================] - 2s 184ms/step - loss: 0.0021 - accuracy: 1.0000 - val_loss: 19.1170 - val_accuracy: 0.1429\n",
      "Epoch 82/100\n",
      "12/12 [==============================] - 2s 200ms/step - loss: 0.0021 - accuracy: 1.0000 - val_loss: 19.0019 - val_accuracy: 0.1429\n",
      "Epoch 83/100\n",
      "12/12 [==============================] - 2s 182ms/step - loss: 0.0021 - accuracy: 1.0000 - val_loss: 19.4831 - val_accuracy: 0.1429\n",
      "Epoch 84/100\n",
      "12/12 [==============================] - 2s 184ms/step - loss: 0.0021 - accuracy: 1.0000 - val_loss: 19.0028 - val_accuracy: 0.1429\n",
      "Epoch 85/100\n",
      "12/12 [==============================] - 2s 187ms/step - loss: 0.0020 - accuracy: 1.0000 - val_loss: 19.3781 - val_accuracy: 0.1429\n",
      "Epoch 86/100\n",
      "12/12 [==============================] - 2s 185ms/step - loss: 0.0019 - accuracy: 1.0000 - val_loss: 19.4714 - val_accuracy: 0.1429\n",
      "Epoch 87/100\n",
      "12/12 [==============================] - 2s 185ms/step - loss: 0.0018 - accuracy: 1.0000 - val_loss: 19.4431 - val_accuracy: 0.1429\n",
      "Epoch 88/100\n",
      "12/12 [==============================] - 2s 184ms/step - loss: 0.0017 - accuracy: 1.0000 - val_loss: 19.7056 - val_accuracy: 0.1429\n",
      "Epoch 89/100\n",
      "12/12 [==============================] - 2s 192ms/step - loss: 0.0017 - accuracy: 1.0000 - val_loss: 19.6043 - val_accuracy: 0.1429\n",
      "Epoch 90/100\n",
      "12/12 [==============================] - 2s 189ms/step - loss: 0.0017 - accuracy: 1.0000 - val_loss: 19.8593 - val_accuracy: 0.1429\n",
      "Epoch 91/100\n",
      "12/12 [==============================] - 2s 203ms/step - loss: 0.0017 - accuracy: 1.0000 - val_loss: 19.7492 - val_accuracy: 0.1429\n",
      "Epoch 92/100\n",
      "12/12 [==============================] - 2s 185ms/step - loss: 0.0016 - accuracy: 1.0000 - val_loss: 20.0243 - val_accuracy: 0.1429\n",
      "Epoch 93/100\n",
      "12/12 [==============================] - 2s 185ms/step - loss: 0.0016 - accuracy: 1.0000 - val_loss: 20.0853 - val_accuracy: 0.1429\n",
      "Epoch 94/100\n",
      "12/12 [==============================] - 2s 191ms/step - loss: 0.0015 - accuracy: 1.0000 - val_loss: 19.9805 - val_accuracy: 0.1429\n",
      "Epoch 95/100\n",
      "12/12 [==============================] - 2s 189ms/step - loss: 0.0015 - accuracy: 1.0000 - val_loss: 20.3575 - val_accuracy: 0.1429\n",
      "Epoch 96/100\n",
      "12/12 [==============================] - 2s 195ms/step - loss: 0.0014 - accuracy: 1.0000 - val_loss: 20.3602 - val_accuracy: 0.1429\n",
      "Epoch 97/100\n",
      "12/12 [==============================] - 2s 185ms/step - loss: 0.0014 - accuracy: 1.0000 - val_loss: 20.3350 - val_accuracy: 0.1429\n",
      "Epoch 98/100\n",
      "12/12 [==============================] - 2s 186ms/step - loss: 0.0014 - accuracy: 1.0000 - val_loss: 20.5128 - val_accuracy: 0.1429\n",
      "Epoch 99/100\n",
      "12/12 [==============================] - 2s 183ms/step - loss: 0.0014 - accuracy: 1.0000 - val_loss: 20.5983 - val_accuracy: 0.1429\n",
      "Epoch 100/100\n",
      "12/12 [==============================] - 2s 184ms/step - loss: 0.0013 - accuracy: 1.0000 - val_loss: 20.5378 - val_accuracy: 0.1429\n"
     ]
    },
    {
     "data": {
      "text/plain": [
       "<keras.src.callbacks.History at 0x7fdc7f598dc0>"
      ]
     },
     "execution_count": 21,
     "metadata": {},
     "output_type": "execute_result"
    }
   ],
   "source": [
    "# This callback will monitor the validation loss (val_loss) of the model.\n",
    "# If the validation loss doesn't improve for 5 (patience=5) consecutive epochs, it'll stop the training.\n",
    "early_stopping = EarlyStopping(monitor='val_loss', patience=5)\n",
    "\n",
    "# fitting the model, include the callback in the 'callbacks' parameter.\n",
    "model.fit(X_train, y_train_categorical, validation_data=(X_dev, y_dev_categorical), epochs=100, batch_size=32, callbacks=[early_stopping])\n",
    "\n",
    "early_stopping = EarlyStopping(monitor='val_loss', patience=100, restore_best_weights=True)\n",
    "model.fit(X_train, y_train_categorical, validation_data=(X_dev, y_dev_categorical), epochs=100, batch_size=32, callbacks=[early_stopping])"
   ]
  },
  {
   "cell_type": "code",
   "execution_count": 22,
   "id": "7a3900b4-20ef-4c70-84e9-a48e9894332d",
   "metadata": {
    "tags": []
   },
   "outputs": [
    {
     "name": "stdout",
     "output_type": "stream",
     "text": [
      "Epoch 1/100\n",
      "12/12 [==============================] - 5s 299ms/step - loss: 6.7892 - accuracy: 0.1398 - val_loss: 4.1377 - val_accuracy: 0.1143\n",
      "Epoch 2/100\n",
      "12/12 [==============================] - 3s 286ms/step - loss: 3.5365 - accuracy: 0.1237 - val_loss: 3.2549 - val_accuracy: 0.0857\n",
      "Epoch 3/100\n",
      "12/12 [==============================] - 4s 313ms/step - loss: 2.9314 - accuracy: 0.1156 - val_loss: 2.6809 - val_accuracy: 0.1429\n",
      "Epoch 4/100\n",
      "12/12 [==============================] - 4s 292ms/step - loss: 2.5522 - accuracy: 0.1183 - val_loss: 2.4340 - val_accuracy: 0.1143\n",
      "Epoch 5/100\n",
      "12/12 [==============================] - 3s 287ms/step - loss: 2.4107 - accuracy: 0.1075 - val_loss: 2.3283 - val_accuracy: 0.1429\n",
      "Epoch 6/100\n",
      "12/12 [==============================] - 4s 304ms/step - loss: 2.3327 - accuracy: 0.1183 - val_loss: 2.2843 - val_accuracy: 0.1714\n",
      "Epoch 7/100\n",
      "12/12 [==============================] - 3s 291ms/step - loss: 2.2906 - accuracy: 0.1237 - val_loss: 2.2441 - val_accuracy: 0.1714\n",
      "Epoch 8/100\n",
      "12/12 [==============================] - 3s 289ms/step - loss: 2.2783 - accuracy: 0.1263 - val_loss: 2.2201 - val_accuracy: 0.1714\n",
      "Epoch 9/100\n",
      "12/12 [==============================] - 3s 289ms/step - loss: 2.2441 - accuracy: 0.1263 - val_loss: 2.2128 - val_accuracy: 0.1143\n",
      "Epoch 10/100\n",
      "12/12 [==============================] - 3s 290ms/step - loss: 2.2362 - accuracy: 0.1075 - val_loss: 2.2003 - val_accuracy: 0.1143\n",
      "Epoch 11/100\n",
      "12/12 [==============================] - 4s 299ms/step - loss: 2.2319 - accuracy: 0.1210 - val_loss: 2.1955 - val_accuracy: 0.1143\n",
      "Epoch 12/100\n",
      "12/12 [==============================] - 4s 288ms/step - loss: 2.2200 - accuracy: 0.1237 - val_loss: 2.2018 - val_accuracy: 0.1143\n",
      "Epoch 13/100\n",
      "12/12 [==============================] - 3s 288ms/step - loss: 2.2098 - accuracy: 0.1344 - val_loss: 2.1670 - val_accuracy: 0.1143\n",
      "Epoch 14/100\n",
      "12/12 [==============================] - 3s 289ms/step - loss: 2.2024 - accuracy: 0.1183 - val_loss: 2.1700 - val_accuracy: 0.1143\n",
      "Epoch 15/100\n",
      "12/12 [==============================] - 3s 288ms/step - loss: 2.1909 - accuracy: 0.1102 - val_loss: 2.1609 - val_accuracy: 0.2000\n",
      "Epoch 16/100\n",
      "12/12 [==============================] - 3s 288ms/step - loss: 2.2087 - accuracy: 0.1183 - val_loss: 2.1592 - val_accuracy: 0.1714\n",
      "Epoch 17/100\n",
      "12/12 [==============================] - 4s 304ms/step - loss: 2.2001 - accuracy: 0.1156 - val_loss: 2.1753 - val_accuracy: 0.0571\n",
      "Epoch 18/100\n",
      "12/12 [==============================] - 3s 290ms/step - loss: 2.1767 - accuracy: 0.1263 - val_loss: 2.1813 - val_accuracy: 0.1143\n",
      "Epoch 19/100\n",
      "12/12 [==============================] - 4s 293ms/step - loss: 2.1794 - accuracy: 0.1371 - val_loss: 2.1762 - val_accuracy: 0.1714\n",
      "Epoch 20/100\n",
      "12/12 [==============================] - 4s 305ms/step - loss: 2.1971 - accuracy: 0.1290 - val_loss: 2.3088 - val_accuracy: 0.0571\n",
      "Epoch 21/100\n",
      "12/12 [==============================] - 4s 292ms/step - loss: 2.2017 - accuracy: 0.1532 - val_loss: 2.2281 - val_accuracy: 0.1143\n"
     ]
    },
    {
     "data": {
      "text/plain": [
       "<keras.src.callbacks.History at 0x7fdc986a39d0>"
      ]
     },
     "execution_count": 22,
     "metadata": {},
     "output_type": "execute_result"
    }
   ],
   "source": [
    "from keras.regularizers import l2\n",
    "\n",
    "model = Sequential()\n",
    "\n",
    "# First Convolutional Layer\n",
    "model.add(Conv2D(32, kernel_size=(3, 3), activation='relu', input_shape=(128, 128, 1)))\n",
    "model.add(BatchNormalization())\n",
    "model.add(MaxPooling2D(pool_size=(2, 2)))\n",
    "model.add(Dropout(0.25))  # Add dropout of 25%\n",
    "\n",
    "# Second Convolutional Layer\n",
    "model.add(Conv2D(64, kernel_size=(3, 3), activation='relu'))\n",
    "model.add(BatchNormalization())\n",
    "model.add(MaxPooling2D(pool_size=(2, 2)))\n",
    "model.add(Dropout(0.25))  # Add dropout of 25%\n",
    "\n",
    "# Flatten and Fully Connected Layers\n",
    "model.add(Flatten())\n",
    "model.add(Dense(128, activation='relu', kernel_regularizer=l2(0.01)))  # L2 regularization\n",
    "model.add(Dropout(0.5))  # Add dropout of 50%\n",
    "model.add(Dense(y_train_categorical.shape[1], activation='softmax'))\n",
    "\n",
    "model.compile(optimizer='adam', loss='categorical_crossentropy', metrics=['accuracy'])\n",
    "\n",
    "early_stopping = EarlyStopping(monitor='val_loss', patience=5, restore_best_weights=True)\n",
    "\n",
    "# Train the model\n",
    "model.fit(X_train, y_train_categorical, validation_data=(X_dev, y_dev_categorical), epochs=100, batch_size=32, callbacks=[early_stopping])"
   ]
  },
  {
   "cell_type": "code",
   "execution_count": 23,
   "id": "db985f4d-07c3-4658-b276-70809175a4ed",
   "metadata": {
    "tags": []
   },
   "outputs": [
    {
     "name": "stdout",
     "output_type": "stream",
     "text": [
      "Epoch 1/100\n",
      "12/12 [==============================] - 4s 273ms/step - loss: 13.6921 - accuracy: 0.1425 - val_loss: 4.0276 - val_accuracy: 0.0857\n",
      "Epoch 2/100\n",
      "12/12 [==============================] - 3s 251ms/step - loss: 2.3536 - accuracy: 0.2097 - val_loss: 3.9284 - val_accuracy: 0.1143\n",
      "Epoch 3/100\n",
      "12/12 [==============================] - 3s 262ms/step - loss: 1.9817 - accuracy: 0.3118 - val_loss: 3.1915 - val_accuracy: 0.1143\n",
      "Epoch 4/100\n",
      "12/12 [==============================] - 3s 275ms/step - loss: 1.8071 - accuracy: 0.3817 - val_loss: 2.4970 - val_accuracy: 0.0571\n",
      "Epoch 5/100\n",
      "12/12 [==============================] - 3s 257ms/step - loss: 1.5884 - accuracy: 0.4570 - val_loss: 2.2640 - val_accuracy: 0.1143\n",
      "Epoch 6/100\n",
      "12/12 [==============================] - 3s 258ms/step - loss: 1.5649 - accuracy: 0.4355 - val_loss: 2.2647 - val_accuracy: 0.1143\n",
      "Epoch 7/100\n",
      "12/12 [==============================] - 3s 259ms/step - loss: 1.3172 - accuracy: 0.5269 - val_loss: 2.5050 - val_accuracy: 0.1143\n",
      "Epoch 8/100\n",
      "12/12 [==============================] - 3s 259ms/step - loss: 1.3795 - accuracy: 0.5188 - val_loss: 2.6675 - val_accuracy: 0.0857\n",
      "Epoch 9/100\n",
      "12/12 [==============================] - 4s 297ms/step - loss: 0.9884 - accuracy: 0.6129 - val_loss: 2.8578 - val_accuracy: 0.0857\n",
      "Epoch 10/100\n",
      "12/12 [==============================] - 3s 265ms/step - loss: 0.9317 - accuracy: 0.6532 - val_loss: 2.7314 - val_accuracy: 0.0857\n",
      "Epoch 11/100\n",
      "12/12 [==============================] - 3s 267ms/step - loss: 0.8853 - accuracy: 0.6586 - val_loss: 2.6142 - val_accuracy: 0.0857\n",
      "Epoch 12/100\n",
      "12/12 [==============================] - 3s 276ms/step - loss: 0.6825 - accuracy: 0.7366 - val_loss: 2.7418 - val_accuracy: 0.0857\n",
      "Epoch 13/100\n",
      "12/12 [==============================] - 4s 299ms/step - loss: 0.6492 - accuracy: 0.7581 - val_loss: 2.3737 - val_accuracy: 0.0857\n",
      "Epoch 14/100\n",
      "12/12 [==============================] - 3s 254ms/step - loss: 0.6156 - accuracy: 0.7581 - val_loss: 2.8058 - val_accuracy: 0.0857\n",
      "Epoch 15/100\n",
      "12/12 [==============================] - 3s 266ms/step - loss: 0.5430 - accuracy: 0.7849 - val_loss: 2.3570 - val_accuracy: 0.0857\n"
     ]
    },
    {
     "data": {
      "text/plain": [
       "<keras.src.callbacks.History at 0x7fdc7f702d70>"
      ]
     },
     "execution_count": 23,
     "metadata": {},
     "output_type": "execute_result"
    }
   ],
   "source": [
    "model = Sequential()\n",
    "\n",
    "# First Convolutional Layer\n",
    "model.add(Conv2D(32, kernel_size=(3, 3), activation='relu', input_shape=(128, 128, 1)))\n",
    "model.add(BatchNormalization())\n",
    "model.add(MaxPooling2D(pool_size=(2, 2)))\n",
    "\n",
    "# Second Convolutional Layer\n",
    "model.add(Conv2D(64, kernel_size=(3, 3), activation='relu'))\n",
    "model.add(BatchNormalization())\n",
    "model.add(MaxPooling2D(pool_size=(2, 2)))\n",
    "\n",
    "# Flatten and Fully Connected Layers\n",
    "model.add(Flatten())\n",
    "model.add(Dense(128, activation='relu'))\n",
    "model.add(Dense(y_train_categorical.shape[1], activation='softmax'))\n",
    "\n",
    "# Use RMSprop optimizer as an alternative\n",
    "optimizer = RMSprop(learning_rate=0.001)\n",
    "\n",
    "model.compile(optimizer=optimizer, loss='categorical_crossentropy', metrics=['accuracy'])\n",
    "\n",
    "early_stopping = EarlyStopping(monitor='val_loss', patience=10, restore_best_weights=True)\n",
    "\n",
    "# Train the model\n",
    "model.fit(X_train, y_train_categorical, validation_data=(X_dev, y_dev_categorical), epochs=100, batch_size=32, callbacks=[early_stopping])"
   ]
  },
  {
   "cell_type": "code",
   "execution_count": 25,
   "id": "2a85f6b1-75e2-45d4-a582-3ba030d4ad56",
   "metadata": {
    "tags": []
   },
   "outputs": [
    {
     "name": "stdout",
     "output_type": "stream",
     "text": [
      "Epoch 1/10\n",
      "20/20 [==============================] - 0s 7ms/step - loss: 2.2785 - accuracy: 0.1219 - val_loss: 2.2299 - val_accuracy: 0.1187\n",
      "Epoch 2/10\n",
      "20/20 [==============================] - 0s 2ms/step - loss: 2.2366 - accuracy: 0.1312 - val_loss: 2.2347 - val_accuracy: 0.1312\n",
      "Epoch 3/10\n",
      "20/20 [==============================] - 0s 2ms/step - loss: 2.2209 - accuracy: 0.1406 - val_loss: 2.2305 - val_accuracy: 0.1063\n",
      "Epoch 4/10\n",
      "20/20 [==============================] - 0s 3ms/step - loss: 2.2001 - accuracy: 0.1422 - val_loss: 2.2221 - val_accuracy: 0.1125\n",
      "Epoch 5/10\n",
      "20/20 [==============================] - 0s 2ms/step - loss: 2.1806 - accuracy: 0.1656 - val_loss: 2.2265 - val_accuracy: 0.1063\n",
      "Epoch 6/10\n",
      "20/20 [==============================] - 0s 2ms/step - loss: 2.1739 - accuracy: 0.1500 - val_loss: 2.2238 - val_accuracy: 0.1063\n",
      "Epoch 7/10\n",
      "20/20 [==============================] - 0s 3ms/step - loss: 2.1443 - accuracy: 0.1828 - val_loss: 2.2224 - val_accuracy: 0.1125\n",
      "Epoch 8/10\n",
      "20/20 [==============================] - 0s 3ms/step - loss: 2.1305 - accuracy: 0.1813 - val_loss: 2.2216 - val_accuracy: 0.1063\n",
      "Epoch 9/10\n",
      "20/20 [==============================] - 0s 2ms/step - loss: 2.1415 - accuracy: 0.1891 - val_loss: 2.2193 - val_accuracy: 0.1063\n",
      "Epoch 10/10\n",
      "20/20 [==============================] - 0s 3ms/step - loss: 2.1273 - accuracy: 0.1891 - val_loss: 2.2232 - val_accuracy: 0.1000\n",
      "Epoch 1/5\n",
      "20/20 [==============================] - 0s 8ms/step - loss: 2.1299 - accuracy: 0.1906 - val_loss: 2.2226 - val_accuracy: 0.1000\n",
      "Epoch 2/5\n",
      "20/20 [==============================] - 0s 3ms/step - loss: 2.1145 - accuracy: 0.2109 - val_loss: 2.2214 - val_accuracy: 0.1000\n",
      "Epoch 3/5\n",
      "20/20 [==============================] - 0s 3ms/step - loss: 2.1307 - accuracy: 0.1828 - val_loss: 2.2213 - val_accuracy: 0.1000\n",
      "Epoch 4/5\n",
      "20/20 [==============================] - 0s 3ms/step - loss: 2.1060 - accuracy: 0.2297 - val_loss: 2.2207 - val_accuracy: 0.1000\n",
      "Epoch 5/5\n",
      "20/20 [==============================] - 0s 3ms/step - loss: 2.1243 - accuracy: 0.1781 - val_loss: 2.2208 - val_accuracy: 0.1000\n",
      "7/7 [==============================] - 0s 1ms/step\n",
      "              precision    recall  f1-score   support\n",
      "\n",
      "        bach       0.00      0.00      0.00        19\n",
      "      bartok       0.13      0.14      0.14        28\n",
      "        byrd       0.40      0.06      0.10        34\n",
      "      chopin       0.17      0.12      0.14        17\n",
      "      handel       0.25      0.09      0.13        22\n",
      "      hummel       0.06      0.20      0.09        20\n",
      " mendelssohn       0.17      0.24      0.20        25\n",
      "      mozart       0.00      0.00      0.00        17\n",
      "    schumann       0.13      0.28      0.18        18\n",
      "\n",
      "    accuracy                           0.12       200\n",
      "   macro avg       0.15      0.13      0.11       200\n",
      "weighted avg       0.17      0.12      0.11       200\n",
      "\n"
     ]
    },
    {
     "name": "stderr",
     "output_type": "stream",
     "text": [
      "/Users/fedijay/anaconda3/lib/python3.10/site-packages/sklearn/metrics/_classification.py:1344: UndefinedMetricWarning: Precision and F-score are ill-defined and being set to 0.0 in labels with no predicted samples. Use `zero_division` parameter to control this behavior.\n",
      "  _warn_prf(average, modifier, msg_start, len(result))\n",
      "/Users/fedijay/anaconda3/lib/python3.10/site-packages/sklearn/metrics/_classification.py:1344: UndefinedMetricWarning: Precision and F-score are ill-defined and being set to 0.0 in labels with no predicted samples. Use `zero_division` parameter to control this behavior.\n",
      "  _warn_prf(average, modifier, msg_start, len(result))\n",
      "/Users/fedijay/anaconda3/lib/python3.10/site-packages/sklearn/metrics/_classification.py:1344: UndefinedMetricWarning: Precision and F-score are ill-defined and being set to 0.0 in labels with no predicted samples. Use `zero_division` parameter to control this behavior.\n",
      "  _warn_prf(average, modifier, msg_start, len(result))\n"
     ]
    }
   ],
   "source": [
    "import tensorflow as tf\n",
    "from sklearn.metrics import f1_score, precision_score, recall_score, classification_report\n",
    "\n",
    "# Sample data\n",
    "X = np.random.rand(1000, 50)  # Example feature data of shape (1000 samples, 50 features)\n",
    "y = np.random.choice(['mozart', 'chopin', 'handel', 'byrd', 'schumann', 'mendelssohn', 'hummel', 'bach', 'bartok'], 1000)  # Example labels\n",
    "\n",
    "# Encode labels\n",
    "label_encoder = LabelEncoder()\n",
    "y_encoded = label_encoder.fit_transform(y)\n",
    "\n",
    "# Calculate the number of unique classes\n",
    "num_classes = len(np.unique(y_encoded))\n",
    "\n",
    "# Split data\n",
    "X_train, X_test, y_train, y_test = train_test_split(X, y_encoded, test_size=0.2)\n",
    "\n",
    "# Define the model\n",
    "model = tf.keras.Sequential([\n",
    "    tf.keras.layers.Dense(128, activation='relu', input_shape=(X_train.shape[1],)),\n",
    "    tf.keras.layers.Dropout(0.5),\n",
    "    tf.keras.layers.Dense(num_classes, activation='softmax')\n",
    "])\n",
    "model.compile(optimizer='adam', loss='sparse_categorical_crossentropy', metrics=['accuracy'])\n",
    "\n",
    "# Train the model\n",
    "history = model.fit(X_train, y_train, epochs=10, validation_split=0.2)\n",
    "\n",
    "# Fine-tuning (with a reduced learning rate, for example)\n",
    "optimizer = tf.keras.optimizers.Adam(learning_rate=0.0001)\n",
    "model.compile(optimizer=optimizer, loss='sparse_categorical_crossentropy', metrics=['accuracy'])\n",
    "history_fine_tune = model.fit(X_train, y_train, epochs=5, validation_split=0.2)\n",
    "\n",
    "# Prediction\n",
    "y_pred = model.predict(X_test)\n",
    "y_pred_classes = np.argmax(y_pred, axis=1)\n",
    "\n",
    "# Evaluation\n",
    "print(classification_report(y_test, y_pred_classes, target_names=label_encoder.classes_))\n"
   ]
  },
  {
   "cell_type": "code",
   "execution_count": 26,
   "id": "635af46d-9037-4575-8a24-95e2957342f5",
   "metadata": {
    "tags": []
   },
   "outputs": [
    {
     "name": "stdout",
     "output_type": "stream",
     "text": [
      "9\n"
     ]
    }
   ],
   "source": [
    "num_classes = len(np.unique(y_encoded))\n",
    "print(num_classes)"
   ]
  },
  {
   "cell_type": "code",
   "execution_count": 27,
   "id": "1ec4b5ed-cf72-49c4-ab31-b44f4481c084",
   "metadata": {
    "tags": []
   },
   "outputs": [
    {
     "name": "stdout",
     "output_type": "stream",
     "text": [
      "Epoch 1/10\n",
      "20/20 [==============================] - 0s 7ms/step - loss: 2.2944 - accuracy: 0.0922 - val_loss: 2.2021 - val_accuracy: 0.1250\n",
      "Epoch 2/10\n",
      "20/20 [==============================] - 0s 2ms/step - loss: 2.2318 - accuracy: 0.1172 - val_loss: 2.1943 - val_accuracy: 0.1562\n",
      "Epoch 3/10\n",
      "20/20 [==============================] - 0s 2ms/step - loss: 2.2013 - accuracy: 0.1437 - val_loss: 2.2065 - val_accuracy: 0.1125\n",
      "Epoch 4/10\n",
      "20/20 [==============================] - 0s 2ms/step - loss: 2.1844 - accuracy: 0.1578 - val_loss: 2.2056 - val_accuracy: 0.1562\n",
      "Epoch 5/10\n",
      "20/20 [==============================] - 0s 2ms/step - loss: 2.1871 - accuracy: 0.1547 - val_loss: 2.2016 - val_accuracy: 0.1187\n",
      "Epoch 6/10\n",
      "20/20 [==============================] - 0s 2ms/step - loss: 2.1542 - accuracy: 0.1609 - val_loss: 2.2035 - val_accuracy: 0.1125\n",
      "Epoch 7/10\n",
      "20/20 [==============================] - 0s 3ms/step - loss: 2.1550 - accuracy: 0.1734 - val_loss: 2.2015 - val_accuracy: 0.1250\n",
      "Epoch 8/10\n",
      "20/20 [==============================] - 0s 2ms/step - loss: 2.1387 - accuracy: 0.1969 - val_loss: 2.2053 - val_accuracy: 0.1250\n",
      "Epoch 9/10\n",
      "20/20 [==============================] - 0s 2ms/step - loss: 2.1232 - accuracy: 0.2141 - val_loss: 2.1983 - val_accuracy: 0.1250\n",
      "Epoch 10/10\n",
      "20/20 [==============================] - 0s 2ms/step - loss: 2.1242 - accuracy: 0.2188 - val_loss: 2.1967 - val_accuracy: 0.1312\n",
      "Epoch 1/5\n",
      "20/20 [==============================] - 0s 7ms/step - loss: 2.1276 - accuracy: 0.1922 - val_loss: 2.1980 - val_accuracy: 0.1187\n",
      "Epoch 2/5\n",
      "20/20 [==============================] - 0s 2ms/step - loss: 2.1168 - accuracy: 0.2062 - val_loss: 2.1986 - val_accuracy: 0.1250\n",
      "Epoch 3/5\n",
      "20/20 [==============================] - 0s 3ms/step - loss: 2.1129 - accuracy: 0.2031 - val_loss: 2.1990 - val_accuracy: 0.1187\n",
      "Epoch 4/5\n",
      "20/20 [==============================] - 0s 2ms/step - loss: 2.1256 - accuracy: 0.2031 - val_loss: 2.1993 - val_accuracy: 0.1187\n",
      "Epoch 5/5\n",
      "20/20 [==============================] - 0s 2ms/step - loss: 2.1224 - accuracy: 0.1969 - val_loss: 2.1994 - val_accuracy: 0.1187\n",
      "7/7 [==============================] - 0s 1ms/step\n",
      "Class-wise metrics:\n",
      "Class\t\tPrecision\tRecall\t\tF1\n",
      "bach\t0.00\t\t0.00\t\t0.00\n",
      "bartok\t0.12\t\t0.35\t\t0.17\n",
      "byrd\t0.21\t\t0.10\t\t0.14\n",
      "chopin\t0.00\t\t0.00\t\t0.00\n",
      "handel\t0.08\t\t0.19\t\t0.11\n",
      "hummel\t0.13\t\t0.12\t\t0.13\n",
      "mendelssohn\t0.19\t\t0.22\t\t0.21\n",
      "mozart\t0.00\t\t0.00\t\t0.00\n",
      "schumann\t0.20\t\t0.08\t\t0.11\n",
      "\n",
      "Overall Metrics:\n",
      "              precision    recall  f1-score   support\n",
      "\n",
      "        bach       0.00      0.00      0.00        21\n",
      "      bartok       0.12      0.35      0.17        26\n",
      "        byrd       0.21      0.10      0.14        30\n",
      "      chopin       0.00      0.00      0.00        23\n",
      "      handel       0.08      0.19      0.11        16\n",
      "      hummel       0.13      0.12      0.13        24\n",
      " mendelssohn       0.19      0.22      0.21        27\n",
      "      mozart       0.00      0.00      0.00        20\n",
      "    schumann       0.20      0.08      0.11        13\n",
      "\n",
      "    accuracy                           0.12       200\n",
      "   macro avg       0.10      0.12      0.10       200\n",
      "weighted avg       0.11      0.12      0.10       200\n",
      "\n"
     ]
    }
   ],
   "source": [
    "# Encode labels\n",
    "label_encoder = LabelEncoder()\n",
    "y_encoded = label_encoder.fit_transform(y)\n",
    "\n",
    "# Split data\n",
    "X_train, X_test, y_train, y_test = train_test_split(X, y_encoded, test_size=0.2)\n",
    "\n",
    "# Define the model - Adjust input_shape and number of dense units as per dataset's requirement\n",
    "model = tf.keras.Sequential([\n",
    "    tf.keras.layers.Dense(128, activation='relu', input_shape=(X_train.shape[1],)),\n",
    "    tf.keras.layers.Dropout(0.5),\n",
    "    tf.keras.layers.Dense(len(np.unique(y)), activation='softmax')\n",
    "])\n",
    "model.compile(optimizer='adam', loss='sparse_categorical_crossentropy', metrics=['accuracy'])\n",
    "\n",
    "# Train the model\n",
    "history = model.fit(X_train, y_train, epochs=10, validation_split=0.2)\n",
    "\n",
    "# Fine-tuning\n",
    "optimizer = tf.keras.optimizers.Adam(learning_rate=0.0001)\n",
    "model.compile(optimizer=optimizer, loss='sparse_categorical_crossentropy', metrics=['accuracy'])\n",
    "history_fine_tune = model.fit(X_train, y_train, epochs=5, validation_split=0.2)\n",
    "\n",
    "# Prediction\n",
    "y_pred = model.predict(X_test)\n",
    "y_pred_classes = np.argmax(y_pred, axis=1)\n",
    "\n",
    "# Evaluation\n",
    "f1 = f1_score(y_test, y_pred_classes, average=None)\n",
    "precision = precision_score(y_test, y_pred_classes, average=None)\n",
    "recall = recall_score(y_test, y_pred_classes, average=None)\n",
    "\n",
    "print(\"Class-wise metrics:\")\n",
    "print(\"Class\\t\\tPrecision\\tRecall\\t\\tF1\")\n",
    "for i, composer in enumerate(label_encoder.classes_):\n",
    "    print(f\"{composer}\\t{precision[i]:.2f}\\t\\t{recall[i]:.2f}\\t\\t{f1[i]:.2f}\")\n",
    "\n",
    "print(\"\\nOverall Metrics:\")\n",
    "print(classification_report(y_test, y_pred_classes, target_names=label_encoder.classes_))"
   ]
  }
 ],
 "metadata": {
  "kernelspec": {
   "display_name": "Python 3 (ipykernel)",
   "language": "python",
   "name": "python3"
  },
  "language_info": {
   "codemirror_mode": {
    "name": "ipython",
    "version": 3
   },
   "file_extension": ".py",
   "mimetype": "text/x-python",
   "name": "python",
   "nbconvert_exporter": "python",
   "pygments_lexer": "ipython3",
   "version": "3.10.11"
  }
 },
 "nbformat": 4,
 "nbformat_minor": 5
}
